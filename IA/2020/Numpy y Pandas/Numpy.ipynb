{
  "nbformat": 4,
  "nbformat_minor": 0,
  "metadata": {
    "colab": {
      "provenance": []
    },
    "kernelspec": {
      "name": "python3",
      "display_name": "Python 3"
    },
    "language_info": {
      "name": "python"
    }
  },
  "cells": [
    {
      "cell_type": "markdown",
      "source": [
        "## **Creación Básica de Arrays**"
      ],
      "metadata": {
        "id": "9u3CpAuB5NFX"
      }
    },
    {
      "cell_type": "code",
      "execution_count": 1,
      "metadata": {
        "id": "ISYJ7z6B1d6C"
      },
      "outputs": [],
      "source": [
        "import numpy as np"
      ]
    },
    {
      "cell_type": "code",
      "source": [
        "a = np.array(13)\n",
        "print(\"type(a): \", type(a), \"\\n\")\n",
        "print(\"a:\", a, sep = \"\\n\")\n",
        "a"
      ],
      "metadata": {
        "colab": {
          "base_uri": "https://localhost:8080/"
        },
        "id": "Kj9-UjGR1wit",
        "outputId": "901c1e95-a876-4014-af15-94294dece797"
      },
      "execution_count": 2,
      "outputs": [
        {
          "output_type": "stream",
          "name": "stdout",
          "text": [
            "type(a):  <class 'numpy.ndarray'> \n",
            "\n",
            "a:\n",
            "13\n"
          ]
        },
        {
          "output_type": "execute_result",
          "data": {
            "text/plain": [
              "array(13)"
            ]
          },
          "metadata": {},
          "execution_count": 2
        }
      ]
    },
    {
      "cell_type": "code",
      "source": [
        "b = np.array([1, 2, 3, 4])\n",
        "print(\"b:\", b, sep = \"\\n\")\n",
        "b"
      ],
      "metadata": {
        "colab": {
          "base_uri": "https://localhost:8080/"
        },
        "id": "n_MaqkuJ2IZe",
        "outputId": "a90e7586-eda3-4e9d-b60d-0447b2ea6443"
      },
      "execution_count": 3,
      "outputs": [
        {
          "output_type": "stream",
          "name": "stdout",
          "text": [
            "b:\n",
            "[1 2 3 4]\n"
          ]
        },
        {
          "output_type": "execute_result",
          "data": {
            "text/plain": [
              "array([1, 2, 3, 4])"
            ]
          },
          "metadata": {},
          "execution_count": 3
        }
      ]
    },
    {
      "cell_type": "code",
      "source": [
        "c = np.array([[1, 2, 3, 4], [5, 6, 7, 8]])\n",
        "print(\"c:\", c, sep = \"\\n\")\n",
        "c"
      ],
      "metadata": {
        "colab": {
          "base_uri": "https://localhost:8080/"
        },
        "id": "3Bgw5KLJ2sp3",
        "outputId": "a362d4c6-eb97-4bd2-a6f3-84fb51329abd"
      },
      "execution_count": 5,
      "outputs": [
        {
          "output_type": "stream",
          "name": "stdout",
          "text": [
            "c:\n",
            "[[1 2 3 4]\n",
            " [5 6 7 8]]\n"
          ]
        },
        {
          "output_type": "execute_result",
          "data": {
            "text/plain": [
              "array([[1, 2, 3, 4],\n",
              "       [5, 6, 7, 8]])"
            ]
          },
          "metadata": {},
          "execution_count": 5
        }
      ]
    },
    {
      "cell_type": "code",
      "source": [
        "d = np.array([[[1, 2, 3, 4], [5, 6, 7, 8]], [[9, 10, 11, 12], [13, 14, 15, 16]]])\n",
        "print(\"d:\", d, sep = \"\\n\")\n",
        "d"
      ],
      "metadata": {
        "colab": {
          "base_uri": "https://localhost:8080/"
        },
        "id": "8Kp71WFF3YAo",
        "outputId": "d7c40eaf-c87d-4832-bc64-833224123416"
      },
      "execution_count": 8,
      "outputs": [
        {
          "output_type": "stream",
          "name": "stdout",
          "text": [
            "d:\n",
            "[[[ 1  2  3  4]\n",
            "  [ 5  6  7  8]]\n",
            "\n",
            " [[ 9 10 11 12]\n",
            "  [13 14 15 16]]]\n"
          ]
        },
        {
          "output_type": "execute_result",
          "data": {
            "text/plain": [
              "array([[[ 1,  2,  3,  4],\n",
              "        [ 5,  6,  7,  8]],\n",
              "\n",
              "       [[ 9, 10, 11, 12],\n",
              "        [13, 14, 15, 16]]])"
            ]
          },
          "metadata": {},
          "execution_count": 8
        }
      ]
    },
    {
      "cell_type": "code",
      "source": [
        "print(a.ndim)\n",
        "print(b.ndim)\n",
        "print(c.ndim)\n",
        "print(d.ndim)"
      ],
      "metadata": {
        "colab": {
          "base_uri": "https://localhost:8080/"
        },
        "id": "GPYUIApw4BwT",
        "outputId": "6cbdb4a0-a4a3-4d54-f4c2-c23075fd2dff"
      },
      "execution_count": 9,
      "outputs": [
        {
          "output_type": "stream",
          "name": "stdout",
          "text": [
            "0\n",
            "1\n",
            "2\n",
            "3\n"
          ]
        }
      ]
    },
    {
      "cell_type": "markdown",
      "source": [
        "## **Indexación Básica**"
      ],
      "metadata": {
        "id": "aM7XsTWi4OKx"
      }
    },
    {
      "cell_type": "code",
      "source": [
        "print(\"a= \", a)\n",
        "print(\"b[2] = \", b[2])\n",
        "print(\"c[1] = \", c[1])\n",
        "print(\"d[1] = \", d[1])"
      ],
      "metadata": {
        "colab": {
          "base_uri": "https://localhost:8080/"
        },
        "id": "wFjuR8474I_r",
        "outputId": "a919808f-ed19-4077-a644-8193e63ec37e"
      },
      "execution_count": 10,
      "outputs": [
        {
          "output_type": "stream",
          "name": "stdout",
          "text": [
            "a=  13\n",
            "b[2] =  3\n",
            "c[1] =  [5 6 7 8]\n",
            "d[1] =  [[ 9 10 11 12]\n",
            " [13 14 15 16]]\n"
          ]
        }
      ]
    },
    {
      "cell_type": "code",
      "source": [
        "print(\"a= \", a)\n",
        "print(\"b[2] = \", b[2])\n",
        "print(\"c[1, 2] = \", c[1, 2])\n",
        "print(\"d[1, 0, 2] = \", d[1, 0, 2])"
      ],
      "metadata": {
        "colab": {
          "base_uri": "https://localhost:8080/"
        },
        "id": "SbUoyTYJ4eZm",
        "outputId": "26e9a855-11eb-4f10-f953-abed8df833f4"
      },
      "execution_count": 11,
      "outputs": [
        {
          "output_type": "stream",
          "name": "stdout",
          "text": [
            "a=  13\n",
            "b[2] =  3\n",
            "c[1, 2] =  7\n",
            "d[1, 0, 2] =  11\n"
          ]
        }
      ]
    },
    {
      "cell_type": "code",
      "source": [
        "print(b[1:4])\n",
        "print(c[1, 1:3])\n",
        "print(d[1:3, 1:3, 0:2])"
      ],
      "metadata": {
        "colab": {
          "base_uri": "https://localhost:8080/"
        },
        "id": "JMIK-fnu4l0n",
        "outputId": "21905f11-934e-422f-f01b-6795d487efa7"
      },
      "execution_count": 12,
      "outputs": [
        {
          "output_type": "stream",
          "name": "stdout",
          "text": [
            "[2 3 4]\n",
            "[6 7]\n",
            "[[[13 14]]]\n"
          ]
        }
      ]
    },
    {
      "cell_type": "markdown",
      "source": [
        "## **Diferentes tipos de datos en los Arrays**"
      ],
      "metadata": {
        "id": "JorpMPhK4xBX"
      }
    },
    {
      "cell_type": "code",
      "source": [
        "frutas = np.array(['Manzana', 'Naranja', 'Uva'])\n",
        "print(frutas.dtype)"
      ],
      "metadata": {
        "colab": {
          "base_uri": "https://localhost:8080/"
        },
        "id": "aAFO0SBm4zyD",
        "outputId": "ff3cf561-d869-40f2-cdb5-66d775448b36"
      },
      "execution_count": 13,
      "outputs": [
        {
          "output_type": "stream",
          "name": "stdout",
          "text": [
            "<U7\n"
          ]
        }
      ]
    },
    {
      "cell_type": "code",
      "source": [
        "number_to_string = np.array([6, 1, 2, 4, 623, 8], dtype='str')\n",
        "print(number_to_string.dtype)\n",
        "print(number_to_string)"
      ],
      "metadata": {
        "colab": {
          "base_uri": "https://localhost:8080/"
        },
        "id": "15gdMSXM5YoC",
        "outputId": "e58ebc5a-5b12-4f6d-b42e-db6b301eb919"
      },
      "execution_count": 14,
      "outputs": [
        {
          "output_type": "stream",
          "name": "stdout",
          "text": [
            "<U3\n",
            "['6' '1' '2' '4' '623' '8']\n"
          ]
        }
      ]
    },
    {
      "cell_type": "code",
      "source": [
        "try:\n",
        "  error_array = np.array(['a', '2', '3'], dtype='int')\n",
        "\n",
        "except:\n",
        "  print(\"Hay un error en su lógica\")"
      ],
      "metadata": {
        "colab": {
          "base_uri": "https://localhost:8080/"
        },
        "id": "6uyl6Mzd5oAP",
        "outputId": "f99aa164-9a1a-4de0-9a4a-71632f24d01b"
      },
      "execution_count": 15,
      "outputs": [
        {
          "output_type": "stream",
          "name": "stdout",
          "text": [
            "Hay un error en su lógica\n"
          ]
        }
      ]
    },
    {
      "cell_type": "code",
      "source": [
        "float_array = np.array([1.1, 2.1, 3.1])\n",
        "\n",
        "int_array = float_array.astype(int)\n",
        "print(int_array)"
      ],
      "metadata": {
        "colab": {
          "base_uri": "https://localhost:8080/"
        },
        "id": "dfwR929I5x1J",
        "outputId": "ae08145d-4d62-4ade-ab1e-d0f3b1e7290b"
      },
      "execution_count": 17,
      "outputs": [
        {
          "output_type": "stream",
          "name": "stdout",
          "text": [
            "[1 2 3]\n"
          ]
        }
      ]
    },
    {
      "cell_type": "code",
      "source": [
        "vector = np.array([127, -127, 32767, -32767], dtype=np.int8) #Entero de un 1byte = 8bits (un bit necesario para almacenar el signo)\n",
        "print(\"vector: \\t\", vector)\n",
        "print(\"vector.dtype: \\t\", vector.dtype)\n",
        "\n",
        "vector = np.array([127, -127, 32767, -32767], dtype=np.int16) #Entero de un 2bytes = 16bits (un bit necesario para almacenar el signo)\n",
        "print(\"vector: \\t\", vector)\n",
        "print(\"vector.dtype: \\t\", vector.dtype)"
      ],
      "metadata": {
        "colab": {
          "base_uri": "https://localhost:8080/"
        },
        "id": "89meHFNJ55pp",
        "outputId": "f7e65168-489e-4ef6-e7f3-d9022df8a14b"
      },
      "execution_count": 20,
      "outputs": [
        {
          "output_type": "stream",
          "name": "stdout",
          "text": [
            "vector: \t [ 127 -127   -1    1]\n",
            "vector.dtype: \t int8\n",
            "vector: \t [   127   -127  32767 -32767]\n",
            "vector.dtype: \t int16\n"
          ]
        },
        {
          "output_type": "stream",
          "name": "stderr",
          "text": [
            "<ipython-input-20-104165835021>:1: DeprecationWarning: NumPy will stop allowing conversion of out-of-bound Python integers to integer arrays.  The conversion of 32767 to int8 will fail in the future.\n",
            "For the old behavior, usually:\n",
            "    np.array(value).astype(dtype)\n",
            "will give the desired result (the cast overflows).\n",
            "  vector = np.array([127, -127, 32767, -32767], dtype=np.int8) #Entero de un 1byte = 8bits (un bit necesario para almacenar el signo)\n",
            "<ipython-input-20-104165835021>:1: DeprecationWarning: NumPy will stop allowing conversion of out-of-bound Python integers to integer arrays.  The conversion of -32767 to int8 will fail in the future.\n",
            "For the old behavior, usually:\n",
            "    np.array(value).astype(dtype)\n",
            "will give the desired result (the cast overflows).\n",
            "  vector = np.array([127, -127, 32767, -32767], dtype=np.int8) #Entero de un 1byte = 8bits (un bit necesario para almacenar el signo)\n"
          ]
        }
      ]
    },
    {
      "cell_type": "markdown",
      "source": [
        "## **Tamaño de los arrays**\n",
        "\n"
      ],
      "metadata": {
        "id": "a7pm4twE7B-f"
      }
    },
    {
      "cell_type": "code",
      "source": [
        "print(a.shape)\n",
        "print(b.shape)\n",
        "print(c.shape)\n",
        "print(d.shape)"
      ],
      "metadata": {
        "colab": {
          "base_uri": "https://localhost:8080/"
        },
        "id": "JXiBPi8G7Fu7",
        "outputId": "b9d811da-efce-4a96-c3f8-b32d275ffe67"
      },
      "execution_count": 21,
      "outputs": [
        {
          "output_type": "stream",
          "name": "stdout",
          "text": [
            "()\n",
            "(4,)\n",
            "(2, 4)\n",
            "(2, 2, 4)\n"
          ]
        }
      ]
    },
    {
      "cell_type": "markdown",
      "source": [
        "**Cambio de forma de los arreglos**"
      ],
      "metadata": {
        "id": "tU2Monvp7Nmz"
      }
    },
    {
      "cell_type": "code",
      "source": [
        "print(\"c = \", c, \"\\n\")\n",
        "c_1D = c.reshape(1, 8)\n",
        "print(\"c_1D = \", c_1D, \"\\n\")"
      ],
      "metadata": {
        "colab": {
          "base_uri": "https://localhost:8080/"
        },
        "id": "Oq20Vjz57L96",
        "outputId": "52f5d927-d774-40a1-f346-5e97dbf01cba"
      },
      "execution_count": 22,
      "outputs": [
        {
          "output_type": "stream",
          "name": "stdout",
          "text": [
            "c =  [[1 2 3 4]\n",
            " [5 6 7 8]] \n",
            "\n",
            "c_1D =  [[1 2 3 4 5 6 7 8]] \n",
            "\n"
          ]
        }
      ]
    },
    {
      "cell_type": "code",
      "source": [
        "c_4D = c.reshape(4, 2)\n",
        "print(\"c_4D = \", c_4D, \"\\n\")"
      ],
      "metadata": {
        "colab": {
          "base_uri": "https://localhost:8080/"
        },
        "id": "ORlTmVUl7z_U",
        "outputId": "153bfc4a-912b-45fe-9f96-b0a2f10172a0"
      },
      "execution_count": 23,
      "outputs": [
        {
          "output_type": "stream",
          "name": "stdout",
          "text": [
            "c_4D =  [[1 2]\n",
            " [3 4]\n",
            " [5 6]\n",
            " [7 8]] \n",
            "\n"
          ]
        }
      ]
    },
    {
      "cell_type": "code",
      "source": [
        "print(d)"
      ],
      "metadata": {
        "colab": {
          "base_uri": "https://localhost:8080/"
        },
        "id": "OtRGN9m3780Y",
        "outputId": "4c823320-1c43-4595-f899-e3fcc715fb25"
      },
      "execution_count": 24,
      "outputs": [
        {
          "output_type": "stream",
          "name": "stdout",
          "text": [
            "[[[ 1  2  3  4]\n",
            "  [ 5  6  7  8]]\n",
            "\n",
            " [[ 9 10 11 12]\n",
            "  [13 14 15 16]]]\n"
          ]
        }
      ]
    },
    {
      "cell_type": "code",
      "source": [
        "try:\n",
        "  d.reshape(3, 5)\n",
        "\n",
        "except:\n",
        "  print(\"Hay un error al intentar cambiar la forma del arreglo\")"
      ],
      "metadata": {
        "colab": {
          "base_uri": "https://localhost:8080/"
        },
        "id": "u6X7Cs9E7_y_",
        "outputId": "c923047a-4438-43c5-ba84-2101c1a2ca2a"
      },
      "execution_count": 25,
      "outputs": [
        {
          "output_type": "stream",
          "name": "stdout",
          "text": [
            "Hay un error al intentar cambiar la forma del arreglo\n"
          ]
        }
      ]
    },
    {
      "cell_type": "code",
      "source": [
        "d.reshape(2,2,2,2)"
      ],
      "metadata": {
        "colab": {
          "base_uri": "https://localhost:8080/"
        },
        "id": "NNc6kSaD8MIO",
        "outputId": "55636106-8430-4a13-f092-8661410171e4"
      },
      "execution_count": 26,
      "outputs": [
        {
          "output_type": "execute_result",
          "data": {
            "text/plain": [
              "array([[[[ 1,  2],\n",
              "         [ 3,  4]],\n",
              "\n",
              "        [[ 5,  6],\n",
              "         [ 7,  8]]],\n",
              "\n",
              "\n",
              "       [[[ 9, 10],\n",
              "         [11, 12]],\n",
              "\n",
              "        [[13, 14],\n",
              "         [15, 16]]]])"
            ]
          },
          "metadata": {},
          "execution_count": 26
        }
      ]
    },
    {
      "cell_type": "code",
      "source": [
        "arr = np.array([1, 2, 3, 4, 5, 6, 7, 8, 9])\n",
        "arr.reshape(3, -1)"
      ],
      "metadata": {
        "colab": {
          "base_uri": "https://localhost:8080/"
        },
        "id": "PEu8MjC68QIR",
        "outputId": "3712185f-c286-4965-8720-3d355086f635"
      },
      "execution_count": 27,
      "outputs": [
        {
          "output_type": "execute_result",
          "data": {
            "text/plain": [
              "array([[1, 2, 3],\n",
              "       [4, 5, 6],\n",
              "       [7, 8, 9]])"
            ]
          },
          "metadata": {},
          "execution_count": 27
        }
      ]
    },
    {
      "cell_type": "code",
      "source": [
        "d.reshape(-1)"
      ],
      "metadata": {
        "colab": {
          "base_uri": "https://localhost:8080/"
        },
        "id": "pBigKbUt_IqZ",
        "outputId": "fcc529ed-7efa-493c-b782-b495b50505db"
      },
      "execution_count": 28,
      "outputs": [
        {
          "output_type": "execute_result",
          "data": {
            "text/plain": [
              "array([ 1,  2,  3,  4,  5,  6,  7,  8,  9, 10, 11, 12, 13, 14, 15, 16])"
            ]
          },
          "metadata": {},
          "execution_count": 28
        }
      ]
    },
    {
      "cell_type": "markdown",
      "source": [
        "**Transpuesta**"
      ],
      "metadata": {
        "id": "MVeZURqg_VSQ"
      }
    },
    {
      "cell_type": "code",
      "source": [
        "print(\"c = \", c, \"\\n\")\n",
        "print(\"c.T = \", c.T)"
      ],
      "metadata": {
        "colab": {
          "base_uri": "https://localhost:8080/"
        },
        "id": "0ZXlAaXu_aS5",
        "outputId": "cd237eaa-8fc6-4e28-f773-6675a85b2ee9"
      },
      "execution_count": 29,
      "outputs": [
        {
          "output_type": "stream",
          "name": "stdout",
          "text": [
            "c =  [[1 2 3 4]\n",
            " [5 6 7 8]] \n",
            "\n",
            "c.T =  [[1 5]\n",
            " [2 6]\n",
            " [3 7]\n",
            " [4 8]]\n"
          ]
        }
      ]
    },
    {
      "cell_type": "markdown",
      "source": [
        "## **Recorrer los valores de un arreglo**"
      ],
      "metadata": {
        "id": "6WYPUibw_qLi"
      }
    },
    {
      "cell_type": "code",
      "source": [
        "for x in b:\n",
        "  print(x, \"\\n\")"
      ],
      "metadata": {
        "colab": {
          "base_uri": "https://localhost:8080/"
        },
        "id": "CTH3OKjN_yra",
        "outputId": "92ef20e1-42c3-4536-eee7-49963b734401"
      },
      "execution_count": 30,
      "outputs": [
        {
          "output_type": "stream",
          "name": "stdout",
          "text": [
            "1 \n",
            "\n",
            "2 \n",
            "\n",
            "3 \n",
            "\n",
            "4 \n",
            "\n"
          ]
        }
      ]
    },
    {
      "cell_type": "code",
      "source": [
        "for x in c:\n",
        "  print(x, \"\\n\")"
      ],
      "metadata": {
        "colab": {
          "base_uri": "https://localhost:8080/"
        },
        "id": "bDEr4i9C_3ZK",
        "outputId": "a3072292-6f8a-4835-ed31-d7f1eb38672c"
      },
      "execution_count": 31,
      "outputs": [
        {
          "output_type": "stream",
          "name": "stdout",
          "text": [
            "[1 2 3 4] \n",
            "\n",
            "[5 6 7 8] \n",
            "\n"
          ]
        }
      ]
    },
    {
      "cell_type": "code",
      "source": [
        "for x in d:\n",
        "  print(x, \"\\n\")"
      ],
      "metadata": {
        "colab": {
          "base_uri": "https://localhost:8080/"
        },
        "id": "MYgE_PW4_5xH",
        "outputId": "50f82ea3-c6aa-4bb3-97a2-17747f61eb6c"
      },
      "execution_count": 32,
      "outputs": [
        {
          "output_type": "stream",
          "name": "stdout",
          "text": [
            "[[1 2 3 4]\n",
            " [5 6 7 8]] \n",
            "\n",
            "[[ 9 10 11 12]\n",
            " [13 14 15 16]] \n",
            "\n"
          ]
        }
      ]
    },
    {
      "cell_type": "code",
      "source": [
        "for x in d:\n",
        "  for y in x:\n",
        "    for z in y:\n",
        "      print(z)"
      ],
      "metadata": {
        "colab": {
          "base_uri": "https://localhost:8080/"
        },
        "id": "9JsdwrxL_-8w",
        "outputId": "5a813034-9ffe-4129-a1e9-17717a0dca16"
      },
      "execution_count": 33,
      "outputs": [
        {
          "output_type": "stream",
          "name": "stdout",
          "text": [
            "1\n",
            "2\n",
            "3\n",
            "4\n",
            "5\n",
            "6\n",
            "7\n",
            "8\n",
            "9\n",
            "10\n",
            "11\n",
            "12\n",
            "13\n",
            "14\n",
            "15\n",
            "16\n"
          ]
        }
      ]
    },
    {
      "cell_type": "code",
      "source": [
        "for x in np.nditer(d):\n",
        "  print(x)"
      ],
      "metadata": {
        "colab": {
          "base_uri": "https://localhost:8080/"
        },
        "id": "R9mLMTnyACq1",
        "outputId": "ad7b25ae-455d-4208-8d7e-19ad2711c280"
      },
      "execution_count": 34,
      "outputs": [
        {
          "output_type": "stream",
          "name": "stdout",
          "text": [
            "1\n",
            "2\n",
            "3\n",
            "4\n",
            "5\n",
            "6\n",
            "7\n",
            "8\n",
            "9\n",
            "10\n",
            "11\n",
            "12\n",
            "13\n",
            "14\n",
            "15\n",
            "16\n"
          ]
        }
      ]
    },
    {
      "cell_type": "code",
      "source": [
        "for i, x in np.ndenumerate(d):\n",
        "  print(\"i : \", i, \"\\t\\tx:\", x)"
      ],
      "metadata": {
        "colab": {
          "base_uri": "https://localhost:8080/"
        },
        "id": "CfeLdsMaAYqM",
        "outputId": "883be4e4-356a-45cb-b51f-14675e2d7f8e"
      },
      "execution_count": 35,
      "outputs": [
        {
          "output_type": "stream",
          "name": "stdout",
          "text": [
            "i :  (0, 0, 0) \t\tx: 1\n",
            "i :  (0, 0, 1) \t\tx: 2\n",
            "i :  (0, 0, 2) \t\tx: 3\n",
            "i :  (0, 0, 3) \t\tx: 4\n",
            "i :  (0, 1, 0) \t\tx: 5\n",
            "i :  (0, 1, 1) \t\tx: 6\n",
            "i :  (0, 1, 2) \t\tx: 7\n",
            "i :  (0, 1, 3) \t\tx: 8\n",
            "i :  (1, 0, 0) \t\tx: 9\n",
            "i :  (1, 0, 1) \t\tx: 10\n",
            "i :  (1, 0, 2) \t\tx: 11\n",
            "i :  (1, 0, 3) \t\tx: 12\n",
            "i :  (1, 1, 0) \t\tx: 13\n",
            "i :  (1, 1, 1) \t\tx: 14\n",
            "i :  (1, 1, 2) \t\tx: 15\n",
            "i :  (1, 1, 3) \t\tx: 16\n"
          ]
        }
      ]
    },
    {
      "cell_type": "markdown",
      "source": [
        "## **Generacion de arreglos**"
      ],
      "metadata": {
        "id": "uoZEW7jtAiMf"
      }
    },
    {
      "cell_type": "code",
      "source": [
        "print(f\"np.arrange(0, 1, 0.1) :\\n{np.arange(0, 1, 0.1)}\")"
      ],
      "metadata": {
        "colab": {
          "base_uri": "https://localhost:8080/"
        },
        "id": "wBL-wZvCAl0C",
        "outputId": "4d6910ac-2d04-4a61-a8d9-4bb345e14b3e"
      },
      "execution_count": 36,
      "outputs": [
        {
          "output_type": "stream",
          "name": "stdout",
          "text": [
            "np.arrange(0, 1, 0.1) :\n",
            "[0.  0.1 0.2 0.3 0.4 0.5 0.6 0.7 0.8 0.9]\n"
          ]
        }
      ]
    },
    {
      "cell_type": "code",
      "source": [
        "print(f\"np.zeros((2, 3, 5)) :\\n{np.zeros((2, 3, 5))}\")"
      ],
      "metadata": {
        "colab": {
          "base_uri": "https://localhost:8080/"
        },
        "id": "uo6y1oc9A4_n",
        "outputId": "c4692de6-d051-494a-83e0-0ebabf05b6f2"
      },
      "execution_count": 38,
      "outputs": [
        {
          "output_type": "stream",
          "name": "stdout",
          "text": [
            "np.zeros((2, 3, 5)) :\n",
            "[[[0. 0. 0. 0. 0.]\n",
            "  [0. 0. 0. 0. 0.]\n",
            "  [0. 0. 0. 0. 0.]]\n",
            "\n",
            " [[0. 0. 0. 0. 0.]\n",
            "  [0. 0. 0. 0. 0.]\n",
            "  [0. 0. 0. 0. 0.]]]\n"
          ]
        }
      ]
    },
    {
      "cell_type": "code",
      "source": [
        "print(f\"np.ones((2, 3, 5)) :\\n{np.ones((2, 3, 5))}\")"
      ],
      "metadata": {
        "colab": {
          "base_uri": "https://localhost:8080/"
        },
        "id": "kAx4ZQukBHqw",
        "outputId": "a29a4fcc-27bf-4f34-f128-54517991aede"
      },
      "execution_count": 39,
      "outputs": [
        {
          "output_type": "stream",
          "name": "stdout",
          "text": [
            "np.ones((2, 3, 5)) :\n",
            "[[[1. 1. 1. 1. 1.]\n",
            "  [1. 1. 1. 1. 1.]\n",
            "  [1. 1. 1. 1. 1.]]\n",
            "\n",
            " [[1. 1. 1. 1. 1.]\n",
            "  [1. 1. 1. 1. 1.]\n",
            "  [1. 1. 1. 1. 1.]]]\n"
          ]
        }
      ]
    },
    {
      "cell_type": "code",
      "source": [
        "print(f\"np.full((3, 4), 1.23) :\\n{np.full((2, 3, 5), 1.23)}\")"
      ],
      "metadata": {
        "colab": {
          "base_uri": "https://localhost:8080/"
        },
        "id": "9EWshLkwBPRQ",
        "outputId": "b5a07c8e-b3d9-4d98-d060-fd44b9b2b73d"
      },
      "execution_count": 41,
      "outputs": [
        {
          "output_type": "stream",
          "name": "stdout",
          "text": [
            "np.full((3, 4), 1.23) :\n",
            "[[[1.23 1.23 1.23 1.23 1.23]\n",
            "  [1.23 1.23 1.23 1.23 1.23]\n",
            "  [1.23 1.23 1.23 1.23 1.23]]\n",
            "\n",
            " [[1.23 1.23 1.23 1.23 1.23]\n",
            "  [1.23 1.23 1.23 1.23 1.23]\n",
            "  [1.23 1.23 1.23 1.23 1.23]]]\n"
          ]
        }
      ]
    },
    {
      "cell_type": "code",
      "source": [
        "print(f\"np.identity(3) :\\n{np.identity(3)}\")"
      ],
      "metadata": {
        "colab": {
          "base_uri": "https://localhost:8080/"
        },
        "id": "AXVCuiYBBgrj",
        "outputId": "d37a262e-e648-4115-b456-81a8bda99c36"
      },
      "execution_count": 42,
      "outputs": [
        {
          "output_type": "stream",
          "name": "stdout",
          "text": [
            "np.identity(3) :\n",
            "[[1. 0. 0.]\n",
            " [0. 1. 0.]\n",
            " [0. 0. 1.]]\n"
          ]
        }
      ]
    },
    {
      "cell_type": "code",
      "source": [
        "print(f\"np.eye(3) :\\n{np.eye(3)}\")"
      ],
      "metadata": {
        "colab": {
          "base_uri": "https://localhost:8080/"
        },
        "id": "32A5PHG0BsoT",
        "outputId": "b02c6064-6650-4fe3-eaa1-efc167f5b55c"
      },
      "execution_count": 43,
      "outputs": [
        {
          "output_type": "stream",
          "name": "stdout",
          "text": [
            "np.eye(3) :\n",
            "[[1. 0. 0.]\n",
            " [0. 1. 0.]\n",
            " [0. 0. 1.]]\n"
          ]
        }
      ]
    },
    {
      "cell_type": "code",
      "source": [
        "print(f\"np.empty((2, 3, 5)) :\\n{np.empty((2, 3, 5))}\")"
      ],
      "metadata": {
        "colab": {
          "base_uri": "https://localhost:8080/"
        },
        "id": "BXOLiubOB2A3",
        "outputId": "5106dd90-1e42-4c94-db26-eeb8da2926e2"
      },
      "execution_count": 44,
      "outputs": [
        {
          "output_type": "stream",
          "name": "stdout",
          "text": [
            "np.empty((2, 3, 5)) :\n",
            "[[[1.23 1.23 1.23 1.23 1.23]\n",
            "  [1.23 1.23 1.23 1.23 1.23]\n",
            "  [1.23 1.23 1.23 1.23 1.23]]\n",
            "\n",
            " [[1.23 1.23 1.23 1.23 1.23]\n",
            "  [1.23 1.23 1.23 1.23 1.23]\n",
            "  [1.23 1.23 1.23 1.23 1.23]]]\n"
          ]
        }
      ]
    },
    {
      "cell_type": "markdown",
      "source": [
        "**Operaciones don arrays**"
      ],
      "metadata": {
        "id": "cXA06u7gCAXK"
      }
    },
    {
      "cell_type": "code",
      "source": [
        "vector = np.array([1, 2, 3, 4, 5, 6, 7, 8, 9])\n",
        "index = np.where(vector%3 == 0)\n",
        "print(f\"type(indx) :\\t{type(index)}\")\n",
        "print(f\"indx :\\t{index}\")"
      ],
      "metadata": {
        "colab": {
          "base_uri": "https://localhost:8080/"
        },
        "id": "U50hbF1wCEAu",
        "outputId": "44a14d5e-7a05-4ab9-d885-23e1474caa6e"
      },
      "execution_count": 46,
      "outputs": [
        {
          "output_type": "stream",
          "name": "stdout",
          "text": [
            "type(indx) :\t<class 'tuple'>\n",
            "indx :\t(array([2, 5, 8]),)\n"
          ]
        }
      ]
    },
    {
      "cell_type": "code",
      "source": [
        "filtrado = vector[index]\n",
        "print(f\"filtrado :\\t{filtrado}\")"
      ],
      "metadata": {
        "colab": {
          "base_uri": "https://localhost:8080/"
        },
        "id": "7NaVeUNvCqZG",
        "outputId": "7d526f78-da74-4390-b9cf-48a4d478e8af"
      },
      "execution_count": 47,
      "outputs": [
        {
          "output_type": "stream",
          "name": "stdout",
          "text": [
            "filtrado :\t[3 6 9]\n"
          ]
        }
      ]
    },
    {
      "cell_type": "code",
      "source": [
        "vector_bool = vector%3 == 0\n",
        "print(f\"type(vector_bool) :\\t{type(vector_bool)}\")\n",
        "print(f\"vector_bool :\\t{vector_bool}\")\n",
        "filtrado = vector[vector_bool]\n",
        "print(f\"filtrado :\\t{filtrado}\")"
      ],
      "metadata": {
        "colab": {
          "base_uri": "https://localhost:8080/"
        },
        "id": "8UeczGPRCvUU",
        "outputId": "552947ca-4a04-4224-e47e-06eefacd6e07"
      },
      "execution_count": 48,
      "outputs": [
        {
          "output_type": "stream",
          "name": "stdout",
          "text": [
            "type(vector_bool) :\t<class 'numpy.ndarray'>\n",
            "vector_bool :\t[False False  True False False  True False False  True]\n",
            "filtrado :\t[3 6 9]\n"
          ]
        }
      ]
    },
    {
      "cell_type": "code",
      "source": [
        "import math\n",
        "\n",
        "opt1 = [math.sin(i) for i in [1, 2, 3]]\n",
        "print(opt1)"
      ],
      "metadata": {
        "colab": {
          "base_uri": "https://localhost:8080/"
        },
        "id": "3rOalGOgC8r9",
        "outputId": "b8e60d2d-bbcf-41af-b960-e0724afd6def"
      },
      "execution_count": 50,
      "outputs": [
        {
          "output_type": "stream",
          "name": "stdout",
          "text": [
            "[0.8414709848078965, 0.9092974268256817, 0.1411200080598672]\n"
          ]
        }
      ]
    },
    {
      "cell_type": "code",
      "source": [
        "import math\n",
        "\n",
        "opt1 = [math.sin(i) for i in [1, 2, 3]]\n",
        "print(f\"opt1 :\\t{opt1}\")\n",
        "print(f\"opt1[0] :\\t{opt1[0]:.30f}\")"
      ],
      "metadata": {
        "colab": {
          "base_uri": "https://localhost:8080/"
        },
        "id": "C4cpqTrODYk1",
        "outputId": "e4d4fc6f-df30-4eac-a0e3-03bc3d94f754"
      },
      "execution_count": 51,
      "outputs": [
        {
          "output_type": "stream",
          "name": "stdout",
          "text": [
            "opt1 :\t[0.8414709848078965, 0.9092974268256817, 0.1411200080598672]\n",
            "opt1[0] :\t0.841470984807896504875657228695\n"
          ]
        }
      ]
    },
    {
      "cell_type": "code",
      "source": [
        "opt2 = np.sin(np.array([1, 2, 3], dtype=np.uint8), dtype=np.float64)\n",
        "print(f\"opt2 :\\t{opt2}\")\n",
        "print(f\"opt2[0] :\\t{opt2[0]:.30f}\")"
      ],
      "metadata": {
        "colab": {
          "base_uri": "https://localhost:8080/"
        },
        "id": "zSXZ9KBrDryZ",
        "outputId": "865e2bba-469b-401a-ee07-c89d3a1a3c86"
      },
      "execution_count": 53,
      "outputs": [
        {
          "output_type": "stream",
          "name": "stdout",
          "text": [
            "opt2 :\t[0.84147098 0.90929743 0.14112001]\n",
            "opt2[0] :\t0.841470984807896504875657228695\n"
          ]
        }
      ]
    },
    {
      "cell_type": "code",
      "source": [
        "x = np.array([1, 2, 3])\n",
        "y = np.array([0.0, 0.0, 0.0])\n",
        "np.sin(x, where = x%2==1, out=y)\n",
        "print(f\"y : \\t{y}\")"
      ],
      "metadata": {
        "colab": {
          "base_uri": "https://localhost:8080/"
        },
        "id": "5fR3wopkEPax",
        "outputId": "eabd688d-757a-47ad-cf22-6591bf5e0aff"
      },
      "execution_count": 54,
      "outputs": [
        {
          "output_type": "stream",
          "name": "stdout",
          "text": [
            "y : \t[0.84147098 0.         0.14112001]\n"
          ]
        }
      ]
    },
    {
      "cell_type": "code",
      "source": [
        "x = np.array([1, 2, 3, 4])\n",
        "y = np.array([4, 5, 6, 7])\n",
        "z = np.add(x, y)\n",
        "print(f\"z : \\t{z}\")"
      ],
      "metadata": {
        "colab": {
          "base_uri": "https://localhost:8080/"
        },
        "id": "ca4zVFz8Et5c",
        "outputId": "80fdd043-0baa-4b67-88a4-7f423b2a0b3c"
      },
      "execution_count": 55,
      "outputs": [
        {
          "output_type": "stream",
          "name": "stdout",
          "text": [
            "z : \t[ 5  7  9 11]\n"
          ]
        }
      ]
    },
    {
      "cell_type": "code",
      "source": [
        "z = x + y\n",
        "print(f\"z : \\t{z}\")"
      ],
      "metadata": {
        "colab": {
          "base_uri": "https://localhost:8080/"
        },
        "id": "J3azlkoSFI5k",
        "outputId": "165fd69d-bdb9-4c37-cff5-ebae1ab1f280"
      },
      "execution_count": 56,
      "outputs": [
        {
          "output_type": "stream",
          "name": "stdout",
          "text": [
            "z : \t[ 5  7  9 11]\n"
          ]
        }
      ]
    },
    {
      "cell_type": "code",
      "source": [
        "z = np.add(x, y, dtype=float)\n",
        "print(f\"z : \\t{z}\")"
      ],
      "metadata": {
        "colab": {
          "base_uri": "https://localhost:8080/"
        },
        "id": "O7AvSaoSFQQ0",
        "outputId": "d6d502ce-34c3-4a20-bbb9-1f337d1c49e9"
      },
      "execution_count": 57,
      "outputs": [
        {
          "output_type": "stream",
          "name": "stdout",
          "text": [
            "z : \t[ 5.  7.  9. 11.]\n"
          ]
        }
      ]
    },
    {
      "cell_type": "code",
      "source": [
        "try:\n",
        "  print(np.array([1, 2, 3, 4]) + np.array([5, 6]))\n",
        "except:\n",
        "  print(\"No se pude realizar la operación\")"
      ],
      "metadata": {
        "colab": {
          "base_uri": "https://localhost:8080/"
        },
        "id": "wxKkIIk8FXPl",
        "outputId": "532b4566-e072-4787-ea4b-5845e9baa481"
      },
      "execution_count": 63,
      "outputs": [
        {
          "output_type": "stream",
          "name": "stdout",
          "text": [
            "No se pude realizar la operación\n"
          ]
        }
      ]
    },
    {
      "cell_type": "code",
      "source": [
        "try:\n",
        "  print(np.array([1, 2, 3, 4]) + 0.9)\n",
        "except:\n",
        "  print(\"No se pude realizar la operación\")"
      ],
      "metadata": {
        "colab": {
          "base_uri": "https://localhost:8080/"
        },
        "id": "9QKXnjuRFkte",
        "outputId": "4421b452-644e-4044-f8d3-7acf592804a7"
      },
      "execution_count": 64,
      "outputs": [
        {
          "output_type": "stream",
          "name": "stdout",
          "text": [
            "[1.9 2.9 3.9 4.9]\n"
          ]
        }
      ]
    },
    {
      "cell_type": "code",
      "source": [
        "matriz = np.array([[3, 2, 4], [5, 2, 1], [8, 7, 6]])\n",
        "print(f\"matriz :\\n{matriz}\")\n",
        "print(f\"np.prod(matriz) :\\n{np.prod(matriz)}\")\n",
        "print(f\"np.prod(matriz, axis=0) :\\n{np.prod(matriz, axis=0)}\")\n",
        "print(f\"np.prod(matriz, axis=1) :\\n{np.prod(matriz, axis=1)}\")"
      ],
      "metadata": {
        "colab": {
          "base_uri": "https://localhost:8080/"
        },
        "id": "3RdqYEXXF1uL",
        "outputId": "fe2841d7-5adf-4275-baf2-1e08de964d86"
      },
      "execution_count": 66,
      "outputs": [
        {
          "output_type": "stream",
          "name": "stdout",
          "text": [
            "matriz :\n",
            "[[3 2 4]\n",
            " [5 2 1]\n",
            " [8 7 6]]\n",
            "np.prod(matriz) :\n",
            "80640\n",
            "np.prod(matriz, axis=0) :\n",
            "[120  28  24]\n",
            "np.prod(matriz, axis=1) :\n",
            "[ 24  10 336]\n"
          ]
        }
      ]
    },
    {
      "cell_type": "code",
      "source": [
        "print(f\"matriz :\\n{matriz}\")\n",
        "print(f\"np.cumprod(matriz) :\\n{np.cumprod(matriz)}\")\n",
        "print(f\"np.cumprod(matriz, axis=0) :\\n{np.cumprod(matriz, axis=0)}\")\n",
        "print(f\"np.cumprod(matriz, axis=1) :\\n{np.cumprod(matriz, axis=1)}\")"
      ],
      "metadata": {
        "colab": {
          "base_uri": "https://localhost:8080/"
        },
        "id": "eGCKHm2yGUeD",
        "outputId": "84bbe27d-4183-47d9-a3b2-76e4e3361eb2"
      },
      "execution_count": 67,
      "outputs": [
        {
          "output_type": "stream",
          "name": "stdout",
          "text": [
            "matriz :\n",
            "[[3 2 4]\n",
            " [5 2 1]\n",
            " [8 7 6]]\n",
            "np.cumprod(matriz) :\n",
            "[    3     6    24   120   240   240  1920 13440 80640]\n",
            "np.cumprod(matriz, axis=0) :\n",
            "[[  3   2   4]\n",
            " [ 15   4   4]\n",
            " [120  28  24]]\n",
            "np.cumprod(matriz, axis=1) :\n",
            "[[  3   6  24]\n",
            " [  5  10  10]\n",
            " [  8  56 336]]\n"
          ]
        }
      ]
    },
    {
      "cell_type": "code",
      "source": [
        "print(f\"media: {np.mean(matriz)}\")\n",
        "print(f\"desviación estandar muestral: {np.std(matriz, ddof=1)}\")"
      ],
      "metadata": {
        "colab": {
          "base_uri": "https://localhost:8080/"
        },
        "id": "7PjtV4DuGj-L",
        "outputId": "2b2fcdad-68c3-42d1-97fe-35ed266f5770"
      },
      "execution_count": 68,
      "outputs": [
        {
          "output_type": "stream",
          "name": "stdout",
          "text": [
            "media: 4.222222222222222\n",
            "desviación estandar muestral: 2.438123139721299\n"
          ]
        }
      ]
    },
    {
      "cell_type": "markdown",
      "source": [
        "**Multiplicación Matricial**"
      ],
      "metadata": {
        "id": "LozZ44Z9G0f8"
      }
    },
    {
      "cell_type": "code",
      "source": [
        "arr1 = np.array([[1, 2, 3],\n",
        "                 [4, 5, 6]])\n",
        "arr2 = np.array([[6, 5, 4],\n",
        "                 [3, 2, 1]])"
      ],
      "metadata": {
        "id": "1Tjkf8ING6pY"
      },
      "execution_count": 69,
      "outputs": []
    },
    {
      "cell_type": "code",
      "source": [
        "print(arr1 @ arr2.T)"
      ],
      "metadata": {
        "colab": {
          "base_uri": "https://localhost:8080/"
        },
        "id": "QnzzugvBHJmz",
        "outputId": "1d795417-cfbf-4aca-e29e-d77145f42c11"
      },
      "execution_count": 71,
      "outputs": [
        {
          "output_type": "stream",
          "name": "stdout",
          "text": [
            "[[28 10]\n",
            " [73 28]]\n"
          ]
        }
      ]
    },
    {
      "cell_type": "code",
      "source": [
        "print(np.matmul(arr1, arr2.T))"
      ],
      "metadata": {
        "colab": {
          "base_uri": "https://localhost:8080/"
        },
        "id": "n1pE2-iNHTYo",
        "outputId": "9a6f6ea6-398d-4725-b857-a38897407495"
      },
      "execution_count": 72,
      "outputs": [
        {
          "output_type": "stream",
          "name": "stdout",
          "text": [
            "[[28 10]\n",
            " [73 28]]\n"
          ]
        }
      ]
    },
    {
      "cell_type": "code",
      "source": [
        "print(np.dot(arr1, arr2.T))"
      ],
      "metadata": {
        "colab": {
          "base_uri": "https://localhost:8080/"
        },
        "id": "xNBEsV4yHY1x",
        "outputId": "2f7981d6-47d0-4a52-9526-6eb288df24c6"
      },
      "execution_count": 73,
      "outputs": [
        {
          "output_type": "stream",
          "name": "stdout",
          "text": [
            "[[28 10]\n",
            " [73 28]]\n"
          ]
        }
      ]
    },
    {
      "cell_type": "code",
      "source": [
        "try:\n",
        "  print(0.9 @ arr1)\n",
        "except:\n",
        "  print(\"No se puede realizar la operación\")"
      ],
      "metadata": {
        "colab": {
          "base_uri": "https://localhost:8080/"
        },
        "id": "CIZsF0_dHe_m",
        "outputId": "94dfbedd-6c7c-47c0-f71a-476a30c6bf06"
      },
      "execution_count": 74,
      "outputs": [
        {
          "output_type": "stream",
          "name": "stdout",
          "text": [
            "No se puede realizar la operación\n"
          ]
        }
      ]
    },
    {
      "cell_type": "code",
      "source": [
        "try:\n",
        "  print(np.array([0.9]) @ arr1)\n",
        "except:\n",
        "  print(\"No se puede realizar la operación\")"
      ],
      "metadata": {
        "colab": {
          "base_uri": "https://localhost:8080/"
        },
        "id": "4M2gzg-vHlob",
        "outputId": "e033414e-038d-4009-b4f9-c3af6858e06e"
      },
      "execution_count": 75,
      "outputs": [
        {
          "output_type": "stream",
          "name": "stdout",
          "text": [
            "No se puede realizar la operación\n"
          ]
        }
      ]
    },
    {
      "cell_type": "code",
      "source": [
        "try:\n",
        "  print(np.array([200, 100]) @ arr1)\n",
        "except:\n",
        "  print(\"No se puede realizar la operación\")"
      ],
      "metadata": {
        "colab": {
          "base_uri": "https://localhost:8080/"
        },
        "id": "e8PuRYprHuK8",
        "outputId": "d4b42887-808f-4a4c-88d4-b86ce9102d1f"
      },
      "execution_count": 76,
      "outputs": [
        {
          "output_type": "stream",
          "name": "stdout",
          "text": [
            "[ 600  900 1200]\n"
          ]
        }
      ]
    },
    {
      "cell_type": "code",
      "source": [
        "try:\n",
        "  print(np.matmul(arr1, np.array([10, 20, 30])))\n",
        "except:\n",
        "  print(\"No se puede realizar la operación\")"
      ],
      "metadata": {
        "colab": {
          "base_uri": "https://localhost:8080/"
        },
        "id": "gp_XkdDHH0Ik",
        "outputId": "bce2e994-d7e9-49fe-c43b-ffdf6807358b"
      },
      "execution_count": 79,
      "outputs": [
        {
          "output_type": "stream",
          "name": "stdout",
          "text": [
            "[140 320]\n"
          ]
        }
      ]
    }
  ]
}