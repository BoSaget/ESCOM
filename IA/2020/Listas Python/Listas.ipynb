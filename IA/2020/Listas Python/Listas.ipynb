{
  "nbformat": 4,
  "nbformat_minor": 0,
  "metadata": {
    "colab": {
      "provenance": [],
      "toc_visible": true
    },
    "kernelspec": {
      "name": "python3",
      "display_name": "Python 3"
    },
    "language_info": {
      "name": "python"
    }
  },
  "cells": [
    {
      "cell_type": "code",
      "source": [
        "lista1 = ['Alvaro', 'Daniel', 'Pilar',  'Beatriz']\n",
        "\n",
        "for i in lista1:\n",
        "  print(i, end=' ')\n",
        "\n",
        "print('')"
      ],
      "metadata": {
        "colab": {
          "base_uri": "https://localhost:8080/"
        },
        "id": "-Y3yC8_DPlAI",
        "outputId": "86d02d4a-4e0d-4608-f52d-c08397438621"
      },
      "execution_count": 43,
      "outputs": [
        {
          "output_type": "stream",
          "name": "stdout",
          "text": [
            "Alvaro Daniel Pilar Beatriz \n"
          ]
        }
      ]
    },
    {
      "cell_type": "code",
      "source": [
        "t1 = (1, 'Oleg', 25.5)\n",
        "l1 = ['Maria', 'Bonita']\n",
        "l2 = [t1, l1]\n",
        "t2 = (l2, 'manzana')\n",
        "\n",
        "print('t1=', t1)\n",
        "print('l1=', l1)\n",
        "print('t2=', t2)\n",
        "print('l2=', l2)"
      ],
      "metadata": {
        "colab": {
          "base_uri": "https://localhost:8080/"
        },
        "id": "lSP2wz_cQD8G",
        "outputId": "323d268e-b041-47d8-c5d4-d1b608e9def9"
      },
      "execution_count": 44,
      "outputs": [
        {
          "output_type": "stream",
          "name": "stdout",
          "text": [
            "t1= (1, 'Oleg', 25.5)\n",
            "l1= ['Maria', 'Bonita']\n",
            "t2= ([(1, 'Oleg', 25.5), ['Maria', 'Bonita']], 'manzana')\n",
            "l2= [(1, 'Oleg', 25.5), ['Maria', 'Bonita']]\n"
          ]
        }
      ]
    },
    {
      "cell_type": "code",
      "source": [
        "for i in t1:\n",
        "  print(i)\n",
        "\n",
        "print(\"\\n\")\n",
        "\n",
        "for i in l1:\n",
        "  print(i)\n",
        "\n",
        "print(\"\\n\")\n",
        "\n",
        "for i in l2:\n",
        "  print(i)\n",
        "\n",
        "print(\"\\n\")\n",
        "\n",
        "for i in t2:\n",
        "  print(i)"
      ],
      "metadata": {
        "colab": {
          "base_uri": "https://localhost:8080/"
        },
        "id": "RzWCci1CQZvz",
        "outputId": "9c2486df-d55b-4a16-b621-b2229c3e172e"
      },
      "execution_count": 45,
      "outputs": [
        {
          "output_type": "stream",
          "name": "stdout",
          "text": [
            "1\n",
            "Oleg\n",
            "25.5\n",
            "\n",
            "\n",
            "Maria\n",
            "Bonita\n",
            "\n",
            "\n",
            "(1, 'Oleg', 25.5)\n",
            "['Maria', 'Bonita']\n",
            "\n",
            "\n",
            "[(1, 'Oleg', 25.5), ['Maria', 'Bonita']]\n",
            "manzana\n"
          ]
        }
      ]
    },
    {
      "cell_type": "code",
      "source": [
        "print(t2[0])\n",
        "print(t2[1])\n",
        "print(\"\\n\")\n",
        "\n",
        "print(t2[0][0])\n",
        "print(t2[0][1])\n",
        "print(\"\\n\")\n",
        "\n",
        "print(t2[0][0][0])\n",
        "print(t2[0][0][1])\n",
        "print(t2[0][0][2])\n",
        "print(\"\\n\")\n",
        "\n",
        "print(t2[0][1][0])\n",
        "print(t2[0][1][1])\n",
        "print(t2[0][0][2])\n",
        "print(\"\\n\")"
      ],
      "metadata": {
        "colab": {
          "base_uri": "https://localhost:8080/"
        },
        "id": "jscshToIQo-A",
        "outputId": "40ff3320-1d7c-4a75-f151-721ee74754cc"
      },
      "execution_count": 46,
      "outputs": [
        {
          "output_type": "stream",
          "name": "stdout",
          "text": [
            "[(1, 'Oleg', 25.5), ['Maria', 'Bonita']]\n",
            "manzana\n",
            "\n",
            "\n",
            "(1, 'Oleg', 25.5)\n",
            "['Maria', 'Bonita']\n",
            "\n",
            "\n",
            "1\n",
            "Oleg\n",
            "25.5\n",
            "\n",
            "\n",
            "Maria\n",
            "Bonita\n",
            "25.5\n",
            "\n",
            "\n"
          ]
        }
      ]
    },
    {
      "cell_type": "code",
      "source": [
        "vocalTupla = ('a', 'e', 'i', 'o', 'u')\n",
        "vocalLista = list(vocalTupla)\n",
        "\n",
        "print(vocalTupla)\n",
        "print(vocalLista)"
      ],
      "metadata": {
        "colab": {
          "base_uri": "https://localhost:8080/"
        },
        "id": "tBLCh6lbQ9uk",
        "outputId": "b27c7f38-d61d-4601-e171-312e6ae6a282"
      },
      "execution_count": 47,
      "outputs": [
        {
          "output_type": "stream",
          "name": "stdout",
          "text": [
            "('a', 'e', 'i', 'o', 'u')\n",
            "['a', 'e', 'i', 'o', 'u']\n"
          ]
        }
      ]
    },
    {
      "cell_type": "code",
      "source": [
        "alfabeto = 'abcdefghijklmnopqrstuvwxyz'\n",
        "print(\"Alfabeto es un objeto string:\", type(alfabeto))"
      ],
      "metadata": {
        "colab": {
          "base_uri": "https://localhost:8080/"
        },
        "id": "YxQvMZfjRIG_",
        "outputId": "a97ac973-ab34-471f-89da-79fb1f6e8d7e"
      },
      "execution_count": 48,
      "outputs": [
        {
          "output_type": "stream",
          "name": "stdout",
          "text": [
            "Alfabeto es un objeto string: <class 'str'>\n"
          ]
        }
      ]
    },
    {
      "cell_type": "code",
      "source": [
        "alfaL = []\n",
        "\n",
        "for i in alfabeto:\n",
        "  alfaL.append(i)\n",
        "\n",
        "print(alfaL)"
      ],
      "metadata": {
        "colab": {
          "base_uri": "https://localhost:8080/"
        },
        "id": "LIfLvFPwRUwO",
        "outputId": "e1b3f5c7-e07c-4d79-b08d-7c24af659d36"
      },
      "execution_count": 49,
      "outputs": [
        {
          "output_type": "stream",
          "name": "stdout",
          "text": [
            "['a', 'b', 'c', 'd', 'e', 'f', 'g', 'h', 'i', 'j', 'k', 'l', 'm', 'n', 'o', 'p', 'q', 'r', 's', 't', 'u', 'v', 'w', 'x', 'y', 'z']\n"
          ]
        }
      ]
    },
    {
      "cell_type": "code",
      "source": [
        "N = len(alfaL)\n",
        "\n",
        "numL = []\n",
        "\n",
        "for i in range(N):\n",
        "  numL.append(i)\n",
        "\n",
        "print(\"alfaL = \", alfaL)\n",
        "print(\"\\n\")\n",
        "print(\"numL = \", numL)\n",
        "print(\"\\n\")\n",
        "\n",
        "alfanumL = alfaL + numL\n",
        "alfanumLL = [alfaL, numL]\n",
        "\n",
        "print(\"alfanumL = \", alfanumL)\n",
        "print(\"\\n\")\n",
        "print(\"alfanumLL = \", alfanumLL)"
      ],
      "metadata": {
        "colab": {
          "base_uri": "https://localhost:8080/"
        },
        "id": "M_EkCfV6RbuO",
        "outputId": "45829d3e-3c07-4802-a353-85984baca40e"
      },
      "execution_count": 50,
      "outputs": [
        {
          "output_type": "stream",
          "name": "stdout",
          "text": [
            "alfaL =  ['a', 'b', 'c', 'd', 'e', 'f', 'g', 'h', 'i', 'j', 'k', 'l', 'm', 'n', 'o', 'p', 'q', 'r', 's', 't', 'u', 'v', 'w', 'x', 'y', 'z']\n",
            "\n",
            "\n",
            "numL =  [0, 1, 2, 3, 4, 5, 6, 7, 8, 9, 10, 11, 12, 13, 14, 15, 16, 17, 18, 19, 20, 21, 22, 23, 24, 25]\n",
            "\n",
            "\n",
            "alfanumL =  ['a', 'b', 'c', 'd', 'e', 'f', 'g', 'h', 'i', 'j', 'k', 'l', 'm', 'n', 'o', 'p', 'q', 'r', 's', 't', 'u', 'v', 'w', 'x', 'y', 'z', 0, 1, 2, 3, 4, 5, 6, 7, 8, 9, 10, 11, 12, 13, 14, 15, 16, 17, 18, 19, 20, 21, 22, 23, 24, 25]\n",
            "\n",
            "\n",
            "alfanumLL =  [['a', 'b', 'c', 'd', 'e', 'f', 'g', 'h', 'i', 'j', 'k', 'l', 'm', 'n', 'o', 'p', 'q', 'r', 's', 't', 'u', 'v', 'w', 'x', 'y', 'z'], [0, 1, 2, 3, 4, 5, 6, 7, 8, 9, 10, 11, 12, 13, 14, 15, 16, 17, 18, 19, 20, 21, 22, 23, 24, 25]]\n"
          ]
        }
      ]
    },
    {
      "cell_type": "code",
      "source": [
        "for i in range(N):\n",
        "  print(alfanumLL[0][i], alfanumLL[1][i])"
      ],
      "metadata": {
        "colab": {
          "base_uri": "https://localhost:8080/"
        },
        "id": "RE2XfiK3RyDy",
        "outputId": "7d2ecf5a-447e-4134-ffbc-9db2d8ff09d0"
      },
      "execution_count": 51,
      "outputs": [
        {
          "output_type": "stream",
          "name": "stdout",
          "text": [
            "a 0\n",
            "b 1\n",
            "c 2\n",
            "d 3\n",
            "e 4\n",
            "f 5\n",
            "g 6\n",
            "h 7\n",
            "i 8\n",
            "j 9\n",
            "k 10\n",
            "l 11\n",
            "m 12\n",
            "n 13\n",
            "o 14\n",
            "p 15\n",
            "q 16\n",
            "r 17\n",
            "s 18\n",
            "t 19\n",
            "u 20\n",
            "v 21\n",
            "w 22\n",
            "x 23\n",
            "y 24\n",
            "z 25\n"
          ]
        }
      ]
    },
    {
      "cell_type": "code",
      "source": [
        "alfaL.count('c')\n",
        "print(alfaL)\n",
        "\n",
        "alfaL.remove('c')\n",
        "print(alfaL)\n",
        "\n",
        "alfaL.count('c')\n",
        "print(alfaL)\n",
        "\n",
        "alfaL.append('c')\n",
        "print(alfaL)\n",
        "\n",
        "alfaL.index('m')\n",
        "print(alfaL)\n",
        "\n",
        "alfaL.reverse()\n",
        "print(alfaL)\n",
        "\n",
        "alfaL.sort()\n",
        "print(alfaL)"
      ],
      "metadata": {
        "colab": {
          "base_uri": "https://localhost:8080/"
        },
        "id": "0RBIU-GAR908",
        "outputId": "f590044c-724c-4a4b-a82b-8c9cc58478e7"
      },
      "execution_count": 52,
      "outputs": [
        {
          "output_type": "stream",
          "name": "stdout",
          "text": [
            "['a', 'b', 'c', 'd', 'e', 'f', 'g', 'h', 'i', 'j', 'k', 'l', 'm', 'n', 'o', 'p', 'q', 'r', 's', 't', 'u', 'v', 'w', 'x', 'y', 'z']\n",
            "['a', 'b', 'd', 'e', 'f', 'g', 'h', 'i', 'j', 'k', 'l', 'm', 'n', 'o', 'p', 'q', 'r', 's', 't', 'u', 'v', 'w', 'x', 'y', 'z']\n",
            "['a', 'b', 'd', 'e', 'f', 'g', 'h', 'i', 'j', 'k', 'l', 'm', 'n', 'o', 'p', 'q', 'r', 's', 't', 'u', 'v', 'w', 'x', 'y', 'z']\n",
            "['a', 'b', 'd', 'e', 'f', 'g', 'h', 'i', 'j', 'k', 'l', 'm', 'n', 'o', 'p', 'q', 'r', 's', 't', 'u', 'v', 'w', 'x', 'y', 'z', 'c']\n",
            "['a', 'b', 'd', 'e', 'f', 'g', 'h', 'i', 'j', 'k', 'l', 'm', 'n', 'o', 'p', 'q', 'r', 's', 't', 'u', 'v', 'w', 'x', 'y', 'z', 'c']\n",
            "['c', 'z', 'y', 'x', 'w', 'v', 'u', 't', 's', 'r', 'q', 'p', 'o', 'n', 'm', 'l', 'k', 'j', 'i', 'h', 'g', 'f', 'e', 'd', 'b', 'a']\n",
            "['a', 'b', 'c', 'd', 'e', 'f', 'g', 'h', 'i', 'j', 'k', 'l', 'm', 'n', 'o', 'p', 'q', 'r', 's', 't', 'u', 'v', 'w', 'x', 'y', 'z']\n"
          ]
        }
      ]
    },
    {
      "cell_type": "code",
      "source": [
        "for i in range(N):\n",
        "  print(alfanumLL[0][i], alfanumLL[1][i])"
      ],
      "metadata": {
        "colab": {
          "base_uri": "https://localhost:8080/"
        },
        "id": "_Hk3p3wRSDAv",
        "outputId": "7fbb5a09-ddf4-4e95-dc13-236f9816caed"
      },
      "execution_count": 53,
      "outputs": [
        {
          "output_type": "stream",
          "name": "stdout",
          "text": [
            "a 0\n",
            "b 1\n",
            "c 2\n",
            "d 3\n",
            "e 4\n",
            "f 5\n",
            "g 6\n",
            "h 7\n",
            "i 8\n",
            "j 9\n",
            "k 10\n",
            "l 11\n",
            "m 12\n",
            "n 13\n",
            "o 14\n",
            "p 15\n",
            "q 16\n",
            "r 17\n",
            "s 18\n",
            "t 19\n",
            "u 20\n",
            "v 21\n",
            "w 22\n",
            "x 23\n",
            "y 24\n",
            "z 25\n"
          ]
        }
      ]
    },
    {
      "cell_type": "code",
      "source": [
        "frutas = [\"manzana\", \"kiwi\", \"guanabana\", \"limon\", \"nispero\", \"Pomelo\", \"Mango\"]\n",
        "\n",
        "lista2 = []\n",
        "\n",
        "for x in frutas:\n",
        "  if \"a\" in x:\n",
        "    lista2.append(x)\n",
        "\n",
        "print(lista2)"
      ],
      "metadata": {
        "colab": {
          "base_uri": "https://localhost:8080/"
        },
        "id": "0QJ3MV5GSq8c",
        "outputId": "915d7ecc-0bfc-42a2-8f83-39e1c4575cfd"
      },
      "execution_count": 54,
      "outputs": [
        {
          "output_type": "stream",
          "name": "stdout",
          "text": [
            "['manzana', 'guanabana', 'Mango']\n"
          ]
        }
      ]
    },
    {
      "cell_type": "code",
      "source": [
        "lista2 = [x for x in frutas if \"a\" in x]\n",
        "print(lista2)"
      ],
      "metadata": {
        "colab": {
          "base_uri": "https://localhost:8080/"
        },
        "id": "kQM-uPlLS-Qs",
        "outputId": "e33304db-9c6e-46fd-f962-528e7274c8b0"
      },
      "execution_count": 55,
      "outputs": [
        {
          "output_type": "stream",
          "name": "stdout",
          "text": [
            "['manzana', 'guanabana', 'Mango']\n"
          ]
        }
      ]
    },
    {
      "cell_type": "code",
      "source": [
        "lista2 = [x for x in frutas if \"a\" not in x]\n",
        "print(lista2)"
      ],
      "metadata": {
        "colab": {
          "base_uri": "https://localhost:8080/"
        },
        "id": "aaKNyxxHTCSs",
        "outputId": "9f1f8425-a789-4d35-cbec-a95f77b10ac5"
      },
      "execution_count": 56,
      "outputs": [
        {
          "output_type": "stream",
          "name": "stdout",
          "text": [
            "['kiwi', 'limon', 'nispero', 'Pomelo']\n"
          ]
        }
      ]
    },
    {
      "cell_type": "code",
      "source": [
        "lista2 = [x for x in frutas if len(x) <6]\n",
        "print(lista2)"
      ],
      "metadata": {
        "colab": {
          "base_uri": "https://localhost:8080/"
        },
        "id": "k9XuNuRqTLTk",
        "outputId": "aacce56b-4aed-4655-a0d2-c01093d7bf08"
      },
      "execution_count": 57,
      "outputs": [
        {
          "output_type": "stream",
          "name": "stdout",
          "text": [
            "['kiwi', 'limon', 'Mango']\n"
          ]
        }
      ]
    },
    {
      "cell_type": "code",
      "source": [
        "lista2 = [x for x in t1 if type(x) == int or type(x) == float]\n",
        "print(lista2)"
      ],
      "metadata": {
        "colab": {
          "base_uri": "https://localhost:8080/"
        },
        "id": "P6QQK7EvTcxT",
        "outputId": "c29c1335-eb1c-48db-939e-2d4892ecc23c"
      },
      "execution_count": 58,
      "outputs": [
        {
          "output_type": "stream",
          "name": "stdout",
          "text": [
            "[1, 25.5]\n"
          ]
        }
      ]
    },
    {
      "cell_type": "code",
      "source": [],
      "metadata": {
        "id": "H72kRTb4TtDg"
      },
      "execution_count": null,
      "outputs": []
    }
  ]
}