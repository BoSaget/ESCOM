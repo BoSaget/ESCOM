{
  "nbformat": 4,
  "nbformat_minor": 0,
  "metadata": {
    "colab": {
      "provenance": []
    },
    "kernelspec": {
      "name": "python3",
      "display_name": "Python 3"
    },
    "language_info": {
      "name": "python"
    }
  },
  "cells": [
    {
      "cell_type": "code",
      "source": [
        "Rios = {\n",
        "    'Letica' : 'Amazonas',\n",
        "    'Montería' : 'Sinú',\n",
        "    'Bogotá' : ['Bogotá', 'Tunjelito'],\n",
        "    'San Gil': 'Fonce',\n",
        "    'Honda': 'Magdalena'\n",
        "}\n",
        "print(Rios)"
      ],
      "metadata": {
        "colab": {
          "base_uri": "https://localhost:8080/"
        },
        "id": "f0a1oa20CFbk",
        "outputId": "09a16c09-734c-457f-e5db-5e08ead7d5bf"
      },
      "execution_count": 15,
      "outputs": [
        {
          "output_type": "stream",
          "name": "stdout",
          "text": [
            "{'Letica': 'Amazonas', 'Montería': 'Sinú', 'Bogotá': ['Bogotá', 'Tunjelito'], 'San Gil': 'Fonce', 'Honda': 'Magdalena'}\n"
          ]
        }
      ]
    },
    {
      "cell_type": "code",
      "source": [
        "print(Rios[0])"
      ],
      "metadata": {
        "colab": {
          "base_uri": "https://localhost:8080/",
          "height": 141
        },
        "id": "IhWOVWGBDIef",
        "outputId": "138853ed-fb58-417c-ce0f-8db998bde639"
      },
      "execution_count": 16,
      "outputs": [
        {
          "output_type": "error",
          "ename": "KeyError",
          "evalue": "0",
          "traceback": [
            "\u001b[0;31m---------------------------------------------------------------------------\u001b[0m",
            "\u001b[0;31mKeyError\u001b[0m                                  Traceback (most recent call last)",
            "\u001b[0;32m<ipython-input-16-92c41d317257>\u001b[0m in \u001b[0;36m<cell line: 1>\u001b[0;34m()\u001b[0m\n\u001b[0;32m----> 1\u001b[0;31m \u001b[0mprint\u001b[0m\u001b[0;34m(\u001b[0m\u001b[0mRios\u001b[0m\u001b[0;34m[\u001b[0m\u001b[0;36m0\u001b[0m\u001b[0;34m]\u001b[0m\u001b[0;34m)\u001b[0m\u001b[0;34m\u001b[0m\u001b[0;34m\u001b[0m\u001b[0m\n\u001b[0m",
            "\u001b[0;31mKeyError\u001b[0m: 0"
          ]
        }
      ]
    },
    {
      "cell_type": "code",
      "source": [
        "print(\"Los rios de Monterí ason: \", Rios['Montería'])\n",
        "print(\"Los rios de Bogotá son: \", Rios['Bogotá'])"
      ],
      "metadata": {
        "colab": {
          "base_uri": "https://localhost:8080/"
        },
        "id": "e61ippEVDNCo",
        "outputId": "20bd5857-5a26-48ae-fc7b-1a84b5fd637f"
      },
      "execution_count": 17,
      "outputs": [
        {
          "output_type": "stream",
          "name": "stdout",
          "text": [
            "Los rios de Monterí ason:  Sinú\n",
            "Los rios de Bogotá son:  ['Bogotá', 'Tunjelito']\n"
          ]
        }
      ]
    },
    {
      "cell_type": "code",
      "source": [
        "my_dic=dict([\n",
        "    ('Colores', ['Negro', 'Rojo', 'Azul']),\n",
        "    ('Animales', 'Gato'),\n",
        "    ('Calzado', ['Botas', 'Botines', 'Deportivos', 'Sandalias'])\n",
        "])\n",
        "\n",
        "print(my_dic)\n"
      ],
      "metadata": {
        "colab": {
          "base_uri": "https://localhost:8080/"
        },
        "id": "PG8Tuw7TDZ1o",
        "outputId": "90bc2110-d6bc-4d72-bfbe-4f1e131e724d"
      },
      "execution_count": 18,
      "outputs": [
        {
          "output_type": "stream",
          "name": "stdout",
          "text": [
            "{'Colores': ['Negro', 'Rojo', 'Azul'], 'Animales': 'Gato', 'Calzado': ['Botas', 'Botines', 'Deportivos', 'Sandalias']}\n"
          ]
        }
      ]
    },
    {
      "cell_type": "code",
      "source": [
        "print(type(my_dic))"
      ],
      "metadata": {
        "colab": {
          "base_uri": "https://localhost:8080/"
        },
        "id": "CVcRQHhpEP5p",
        "outputId": "1c57895f-22ad-421f-a54b-425d18d0c26f"
      },
      "execution_count": 19,
      "outputs": [
        {
          "output_type": "stream",
          "name": "stdout",
          "text": [
            "<class 'dict'>\n"
          ]
        }
      ]
    },
    {
      "cell_type": "code",
      "source": [
        "print(my_dic['Colores'])"
      ],
      "metadata": {
        "colab": {
          "base_uri": "https://localhost:8080/"
        },
        "id": "nfXno162EThY",
        "outputId": "a48c94c6-d58d-4b87-c37d-e44dfa8584c7"
      },
      "execution_count": 20,
      "outputs": [
        {
          "output_type": "stream",
          "name": "stdout",
          "text": [
            "['Negro', 'Rojo', 'Azul']\n"
          ]
        }
      ]
    },
    {
      "cell_type": "code",
      "source": [
        "print(my_dic['Colores'][1])"
      ],
      "metadata": {
        "colab": {
          "base_uri": "https://localhost:8080/"
        },
        "id": "06ZvL9J6EXEz",
        "outputId": "146e6b3f-9ed4-457a-9982-a22bee06b572"
      },
      "execution_count": 21,
      "outputs": [
        {
          "output_type": "stream",
          "name": "stdout",
          "text": [
            "Rojo\n"
          ]
        }
      ]
    },
    {
      "cell_type": "code",
      "source": [
        "print(\"Vi pasar un\", my_dic['Animales'], \"con\", my_dic['Calzado'][0], \"de color\", my_dic['Colores'][0])"
      ],
      "metadata": {
        "colab": {
          "base_uri": "https://localhost:8080/"
        },
        "id": "peww2RH4EdWM",
        "outputId": "1b4a52bd-8e94-4a50-db7f-18224664f491"
      },
      "execution_count": 22,
      "outputs": [
        {
          "output_type": "stream",
          "name": "stdout",
          "text": [
            "Vi pasar un Gato con Botas de color Negro\n"
          ]
        }
      ]
    },
    {
      "cell_type": "code",
      "source": [
        "my_dic=dict([\n",
        "    ('Colores', ['Negro', 'Rojo', 'Azul']),\n",
        "    ('Animales', 'Gato'),\n",
        "    ('Calzado', ['Botas', 'Botines', 'Deportivos', 'Sandalias'])\n",
        "])\n",
        "\n",
        "print(my_dic)"
      ],
      "metadata": {
        "colab": {
          "base_uri": "https://localhost:8080/"
        },
        "id": "A3njiu2aEs8A",
        "outputId": "f9143919-5533-481a-e179-ccb7eda17a12"
      },
      "execution_count": 23,
      "outputs": [
        {
          "output_type": "stream",
          "name": "stdout",
          "text": [
            "{'Colores': ['Negro', 'Rojo', 'Azul'], 'Animales': 'Gato', 'Calzado': ['Botas', 'Botines', 'Deportivos', 'Sandalias']}\n"
          ]
        }
      ]
    },
    {
      "cell_type": "code",
      "source": [
        "print(my_dic['Valor'])"
      ],
      "metadata": {
        "colab": {
          "base_uri": "https://localhost:8080/",
          "height": 141
        },
        "id": "vjUwcqhFE8yL",
        "outputId": "df4c8c60-40d2-4036-aef4-3b562de251c0"
      },
      "execution_count": 24,
      "outputs": [
        {
          "output_type": "error",
          "ename": "KeyError",
          "evalue": "'Valor'",
          "traceback": [
            "\u001b[0;31m---------------------------------------------------------------------------\u001b[0m",
            "\u001b[0;31mKeyError\u001b[0m                                  Traceback (most recent call last)",
            "\u001b[0;32m<ipython-input-24-fe7f2260447b>\u001b[0m in \u001b[0;36m<cell line: 1>\u001b[0;34m()\u001b[0m\n\u001b[0;32m----> 1\u001b[0;31m \u001b[0mprint\u001b[0m\u001b[0;34m(\u001b[0m\u001b[0mmy_dic\u001b[0m\u001b[0;34m[\u001b[0m\u001b[0;34m'Valor'\u001b[0m\u001b[0;34m]\u001b[0m\u001b[0;34m)\u001b[0m\u001b[0;34m\u001b[0m\u001b[0;34m\u001b[0m\u001b[0m\n\u001b[0m",
            "\u001b[0;31mKeyError\u001b[0m: 'Valor'"
          ]
        }
      ]
    },
    {
      "cell_type": "code",
      "source": [
        "my_dic['Valor'] = ['20', '50',  '12']\n",
        "print(my_dic)"
      ],
      "metadata": {
        "colab": {
          "base_uri": "https://localhost:8080/"
        },
        "id": "dg_AlX3xFBnC",
        "outputId": "b2553c2c-a574-456f-9412-276702696d30"
      },
      "execution_count": 25,
      "outputs": [
        {
          "output_type": "stream",
          "name": "stdout",
          "text": [
            "{'Colores': ['Negro', 'Rojo', 'Azul'], 'Animales': 'Gato', 'Calzado': ['Botas', 'Botines', 'Deportivos', 'Sandalias'], 'Valor': ['20', '50', '12']}\n"
          ]
        }
      ]
    },
    {
      "cell_type": "code",
      "source": [
        "my_dic['Colores']='Negro'\n",
        "print(my_dic)"
      ],
      "metadata": {
        "colab": {
          "base_uri": "https://localhost:8080/"
        },
        "id": "cDOw4KTIFKeE",
        "outputId": "25d1a469-feca-4307-c281-b6a6e7f1c32f"
      },
      "execution_count": 26,
      "outputs": [
        {
          "output_type": "stream",
          "name": "stdout",
          "text": [
            "{'Colores': 'Negro', 'Animales': 'Gato', 'Calzado': ['Botas', 'Botines', 'Deportivos', 'Sandalias'], 'Valor': ['20', '50', '12']}\n"
          ]
        }
      ]
    },
    {
      "cell_type": "code",
      "source": [
        "del my_dic['Valor']\n",
        "print(my_dic)"
      ],
      "metadata": {
        "colab": {
          "base_uri": "https://localhost:8080/"
        },
        "id": "9nh5RXoVFW1v",
        "outputId": "f479bfe8-9c1f-4fae-fe13-5dfe6d02316d"
      },
      "execution_count": 27,
      "outputs": [
        {
          "output_type": "stream",
          "name": "stdout",
          "text": [
            "{'Colores': 'Negro', 'Animales': 'Gato', 'Calzado': ['Botas', 'Botines', 'Deportivos', 'Sandalias']}\n"
          ]
        }
      ]
    },
    {
      "cell_type": "code",
      "source": [
        "d = {135: 'Coco', 1:'Urban_sound8k', 2:'Mnist', 3:'CheXpert'}\n",
        "print(d)"
      ],
      "metadata": {
        "colab": {
          "base_uri": "https://localhost:8080/"
        },
        "id": "0aRpA4EHFd5r",
        "outputId": "ec782ba2-436b-4a3c-aee6-bbfabe57ed53"
      },
      "execution_count": 28,
      "outputs": [
        {
          "output_type": "stream",
          "name": "stdout",
          "text": [
            "{135: 'Coco', 1: 'Urban_sound8k', 2: 'Mnist', 3: 'CheXpert'}\n"
          ]
        }
      ]
    },
    {
      "cell_type": "code",
      "source": [
        "d[135]"
      ],
      "metadata": {
        "colab": {
          "base_uri": "https://localhost:8080/",
          "height": 35
        },
        "id": "fhLl25tKFuBt",
        "outputId": "41bd289e-b101-4eae-f9ed-9038bd4e7851"
      },
      "execution_count": 29,
      "outputs": [
        {
          "output_type": "execute_result",
          "data": {
            "text/plain": [
              "'Coco'"
            ],
            "application/vnd.google.colaboratory.intrinsic+json": {
              "type": "string"
            }
          },
          "metadata": {},
          "execution_count": 29
        }
      ]
    },
    {
      "cell_type": "code",
      "source": [
        "d[0:2]"
      ],
      "metadata": {
        "colab": {
          "base_uri": "https://localhost:8080/",
          "height": 141
        },
        "id": "Q3rr9-f6FxZ2",
        "outputId": "2f9eeda8-a8f6-439d-c259-0cc6fff825bf"
      },
      "execution_count": 30,
      "outputs": [
        {
          "output_type": "error",
          "ename": "TypeError",
          "evalue": "unhashable type: 'slice'",
          "traceback": [
            "\u001b[0;31m---------------------------------------------------------------------------\u001b[0m",
            "\u001b[0;31mTypeError\u001b[0m                                 Traceback (most recent call last)",
            "\u001b[0;32m<ipython-input-30-6c29bbc86102>\u001b[0m in \u001b[0;36m<cell line: 1>\u001b[0;34m()\u001b[0m\n\u001b[0;32m----> 1\u001b[0;31m \u001b[0md\u001b[0m\u001b[0;34m[\u001b[0m\u001b[0;36m0\u001b[0m\u001b[0;34m:\u001b[0m\u001b[0;36m2\u001b[0m\u001b[0;34m]\u001b[0m\u001b[0;34m\u001b[0m\u001b[0;34m\u001b[0m\u001b[0m\n\u001b[0m",
            "\u001b[0;31mTypeError\u001b[0m: unhashable type: 'slice'"
          ]
        }
      ]
    },
    {
      "cell_type": "code",
      "source": [
        "d.append('Yolo')"
      ],
      "metadata": {
        "colab": {
          "base_uri": "https://localhost:8080/",
          "height": 141
        },
        "id": "WDZ8X0D-F1Bx",
        "outputId": "2569a511-0e4b-4d81-d93d-13187a771e29"
      },
      "execution_count": 31,
      "outputs": [
        {
          "output_type": "error",
          "ename": "AttributeError",
          "evalue": "'dict' object has no attribute 'append'",
          "traceback": [
            "\u001b[0;31m---------------------------------------------------------------------------\u001b[0m",
            "\u001b[0;31mAttributeError\u001b[0m                            Traceback (most recent call last)",
            "\u001b[0;32m<ipython-input-31-3bd208289ba5>\u001b[0m in \u001b[0;36m<cell line: 1>\u001b[0;34m()\u001b[0m\n\u001b[0;32m----> 1\u001b[0;31m \u001b[0md\u001b[0m\u001b[0;34m.\u001b[0m\u001b[0mappend\u001b[0m\u001b[0;34m(\u001b[0m\u001b[0;34m'Yolo'\u001b[0m\u001b[0;34m)\u001b[0m\u001b[0;34m\u001b[0m\u001b[0;34m\u001b[0m\u001b[0m\n\u001b[0m",
            "\u001b[0;31mAttributeError\u001b[0m: 'dict' object has no attribute 'append'"
          ]
        }
      ]
    },
    {
      "cell_type": "code",
      "source": [
        "#Generar diccionario vacío\n",
        "persona = {}\n",
        "print(type(persona))\n",
        "\n",
        "# Agregar llaves y sus definiciones (items)\n",
        "persona['Nombre'] = 'Gengis'\n",
        "persona['Apellido'] = 'Khan'\n",
        "persona['Edad'] = 23\n",
        "persona['Esposa'] = ['Börte Qatun', 'Yesugen', 'Quian Qatun', 'Möge Qatun', 'Juerbiesu', 'Ibaga Beki']\n",
        "persona['Hijos'] = 'En estudio'\n",
        "persona['Mascotas'] = {'Perro': 'Wahadi', 'Gato': 'Gotze', 'Leon':'Pichirito'}\n",
        "\n",
        "print(persona)\n",
        "print(\"Hijos de\", persona['Nombre'], \"son:\", persona['Hijos'])\n"
      ],
      "metadata": {
        "colab": {
          "base_uri": "https://localhost:8080/"
        },
        "id": "qdJOLcGAGJ6N",
        "outputId": "98ac2eb8-ab60-433b-b575-82d7cf6059b1"
      },
      "execution_count": 32,
      "outputs": [
        {
          "output_type": "stream",
          "name": "stdout",
          "text": [
            "<class 'dict'>\n",
            "{'Nombre': 'Gengis', 'Apellido': 'Khan', 'Edad': 23, 'Esposa': ['Börte Qatun', 'Yesugen', 'Quian Qatun', 'Möge Qatun', 'Juerbiesu', 'Ibaga Beki'], 'Hijos': 'En estudio', 'Mascotas': {'Perro': 'Wahadi', 'Gato': 'Gotze', 'Leon': 'Pichirito'}}\n",
            "Hijos de Gengis son: En estudio\n"
          ]
        }
      ]
    },
    {
      "cell_type": "code",
      "source": [
        "print(persona['Mascotas'])"
      ],
      "metadata": {
        "colab": {
          "base_uri": "https://localhost:8080/"
        },
        "id": "DKRKQ6byUIvl",
        "outputId": "053f2cd0-3bbb-452a-bae4-8e439df8e0f1"
      },
      "execution_count": 33,
      "outputs": [
        {
          "output_type": "stream",
          "name": "stdout",
          "text": [
            "{'Perro': 'Wahadi', 'Gato': 'Gotze', 'Leon': 'Pichirito'}\n"
          ]
        }
      ]
    },
    {
      "cell_type": "code",
      "source": [
        "print(persona['Mascotas']['Perro'])"
      ],
      "metadata": {
        "colab": {
          "base_uri": "https://localhost:8080/"
        },
        "id": "1drMn9coUZXw",
        "outputId": "2a2a9736-b324-4a21-d316-ed979ae1e4c2"
      },
      "execution_count": 34,
      "outputs": [
        {
          "output_type": "stream",
          "name": "stdout",
          "text": [
            "Wahadi\n"
          ]
        }
      ]
    },
    {
      "cell_type": "code",
      "source": [
        "foo = {42: 'aaa', 2.78: 'bbb', False: 'cc'}\n",
        "foo[False]"
      ],
      "metadata": {
        "colab": {
          "base_uri": "https://localhost:8080/",
          "height": 35
        },
        "id": "7Wmj7aZ6Ucpz",
        "outputId": "af361405-86e1-4107-ef74-caf4a0794669"
      },
      "execution_count": 35,
      "outputs": [
        {
          "output_type": "execute_result",
          "data": {
            "text/plain": [
              "'cc'"
            ],
            "application/vnd.google.colaboratory.intrinsic+json": {
              "type": "string"
            }
          },
          "metadata": {},
          "execution_count": 35
        }
      ]
    },
    {
      "cell_type": "code",
      "source": [
        "d = {int: 1, float: 2, bool: 3}\n",
        "d[int]"
      ],
      "metadata": {
        "colab": {
          "base_uri": "https://localhost:8080/"
        },
        "id": "EfhOlc87UsTP",
        "outputId": "c151c963-117c-4285-b9bf-50b50a8a4af9"
      },
      "execution_count": 36,
      "outputs": [
        {
          "output_type": "execute_result",
          "data": {
            "text/plain": [
              "1"
            ]
          },
          "metadata": {},
          "execution_count": 36
        }
      ]
    },
    {
      "cell_type": "code",
      "source": [
        "foo = {42: 'aaa', 2.78: 'bbb', False: 'cc', False: 'dodo'}\n",
        "foo"
      ],
      "metadata": {
        "colab": {
          "base_uri": "https://localhost:8080/"
        },
        "id": "pYJn0sXFUzhC",
        "outputId": "8bc2b407-cbcc-4df6-c0d0-d8414a2e4e4d"
      },
      "execution_count": 37,
      "outputs": [
        {
          "output_type": "execute_result",
          "data": {
            "text/plain": [
              "{42: 'aaa', 2.78: 'bbb', False: 'dodo'}"
            ]
          },
          "metadata": {},
          "execution_count": 37
        }
      ]
    },
    {
      "cell_type": "code",
      "source": [
        "#Ejercicio\n",
        "#Defina un diccionario de almenos 4 calves de tal manera que esas llaves sean tuplas. Acceda a cada elemento. ¿Puede hacer los mismo para un clave que sea definida como lista o diccionario?\n",
        "# Definir un diccionario con claves como tuplas\n",
        "ej = {\n",
        "    (1, 2): \"valor 1\",\n",
        "    (3, 4): \"valor 2\",\n",
        "    (5, 6): \"valor 3\",\n",
        "    (7, 8): \"valor 4\"\n",
        "}\n",
        "\n",
        "ej\n"
      ],
      "metadata": {
        "colab": {
          "base_uri": "https://localhost:8080/"
        },
        "id": "c2E2y1mvU9Mp",
        "outputId": "337f28cc-68f2-4b4c-8d93-5d3f6f413e43"
      },
      "execution_count": 38,
      "outputs": [
        {
          "output_type": "execute_result",
          "data": {
            "text/plain": [
              "{(1, 2): 'valor 1', (3, 4): 'valor 2', (5, 6): 'valor 3', (7, 8): 'valor 4'}"
            ]
          },
          "metadata": {},
          "execution_count": 38
        }
      ]
    },
    {
      "cell_type": "code",
      "source": [
        "'Animales' in my_dic"
      ],
      "metadata": {
        "colab": {
          "base_uri": "https://localhost:8080/"
        },
        "id": "1WnWC0EhVwXK",
        "outputId": "e492bfe6-ee1f-4a3b-99f5-ace9f43881cc"
      },
      "execution_count": 39,
      "outputs": [
        {
          "output_type": "execute_result",
          "data": {
            "text/plain": [
              "True"
            ]
          },
          "metadata": {},
          "execution_count": 39
        }
      ]
    },
    {
      "cell_type": "code",
      "source": [
        "'Colores' not in my_dic"
      ],
      "metadata": {
        "colab": {
          "base_uri": "https://localhost:8080/"
        },
        "id": "Qm89QmuoWJQB",
        "outputId": "e0bba949-d845-4865-dcfe-f4b6ebc25663"
      },
      "execution_count": 41,
      "outputs": [
        {
          "output_type": "execute_result",
          "data": {
            "text/plain": [
              "False"
            ]
          },
          "metadata": {},
          "execution_count": 41
        }
      ]
    },
    {
      "cell_type": "code",
      "source": [
        "print(my_dic)\n",
        "print(\"\\nEl diccionario tiene\", len(my_dic), \"items\")"
      ],
      "metadata": {
        "colab": {
          "base_uri": "https://localhost:8080/"
        },
        "id": "PCMzFPDpWNlI",
        "outputId": "dad30747-cdb3-43ac-88ea-1de86f28ab15"
      },
      "execution_count": 42,
      "outputs": [
        {
          "output_type": "stream",
          "name": "stdout",
          "text": [
            "{'Colores': 'Negro', 'Animales': 'Gato', 'Calzado': ['Botas', 'Botines', 'Deportivos', 'Sandalias']}\n",
            "\n",
            "El diccionario tiene 3 items\n"
          ]
        }
      ]
    },
    {
      "cell_type": "code",
      "source": [
        "print(d)\n",
        "d.clear()\n",
        "print(d)"
      ],
      "metadata": {
        "colab": {
          "base_uri": "https://localhost:8080/"
        },
        "id": "0N_tDLdJWamh",
        "outputId": "21531149-e523-42aa-be22-94e9c0d60370"
      },
      "execution_count": 45,
      "outputs": [
        {
          "output_type": "stream",
          "name": "stdout",
          "text": [
            "{<class 'int'>: 1, <class 'float'>: 2, <class 'bool'>: 3}\n",
            "{}\n"
          ]
        }
      ]
    },
    {
      "cell_type": "code",
      "source": [
        "print(my_dic.get('Colores'))"
      ],
      "metadata": {
        "colab": {
          "base_uri": "https://localhost:8080/"
        },
        "id": "6J6nglusWhkK",
        "outputId": "7ec4231d-7277-43e9-8504-2d075d3417ff"
      },
      "execution_count": 46,
      "outputs": [
        {
          "output_type": "stream",
          "name": "stdout",
          "text": [
            "Negro\n"
          ]
        }
      ]
    },
    {
      "cell_type": "code",
      "source": [
        "print(persona.get('Esposa'))"
      ],
      "metadata": {
        "colab": {
          "base_uri": "https://localhost:8080/"
        },
        "id": "SNCNI6VNWvHm",
        "outputId": "0d94ac7c-8f47-47b9-e4c8-ab46afcd9194"
      },
      "execution_count": 47,
      "outputs": [
        {
          "output_type": "stream",
          "name": "stdout",
          "text": [
            "['Börte Qatun', 'Yesugen', 'Quian Qatun', 'Möge Qatun', 'Juerbiesu', 'Ibaga Beki']\n"
          ]
        }
      ]
    },
    {
      "cell_type": "code",
      "source": [
        "print(my_dic.items())"
      ],
      "metadata": {
        "colab": {
          "base_uri": "https://localhost:8080/"
        },
        "id": "3qw9iT9DW0xw",
        "outputId": "27f0e771-390b-4556-a6ca-0940ebcdf1e4"
      },
      "execution_count": 48,
      "outputs": [
        {
          "output_type": "stream",
          "name": "stdout",
          "text": [
            "dict_items([('Colores', 'Negro'), ('Animales', 'Gato'), ('Calzado', ['Botas', 'Botines', 'Deportivos', 'Sandalias'])])\n"
          ]
        }
      ]
    },
    {
      "cell_type": "code",
      "source": [
        "#Inicia Segundo PDF\n",
        "print(my_dic.items())"
      ],
      "metadata": {
        "colab": {
          "base_uri": "https://localhost:8080/"
        },
        "id": "3f1ZuG_-XE-B",
        "outputId": "baa71ce1-ebbb-4b94-f738-51650c269aa5"
      },
      "execution_count": 49,
      "outputs": [
        {
          "output_type": "stream",
          "name": "stdout",
          "text": [
            "dict_items([('Colores', 'Negro'), ('Animales', 'Gato'), ('Calzado', ['Botas', 'Botines', 'Deportivos', 'Sandalias'])])\n"
          ]
        }
      ]
    },
    {
      "cell_type": "code",
      "source": [
        "print(list(my_dic.items()))"
      ],
      "metadata": {
        "colab": {
          "base_uri": "https://localhost:8080/"
        },
        "id": "YyVxKASJYabP",
        "outputId": "bfe6fed0-f18d-4167-97ee-33ade7daccc5"
      },
      "execution_count": 50,
      "outputs": [
        {
          "output_type": "stream",
          "name": "stdout",
          "text": [
            "[('Colores', 'Negro'), ('Animales', 'Gato'), ('Calzado', ['Botas', 'Botines', 'Deportivos', 'Sandalias'])]\n"
          ]
        }
      ]
    },
    {
      "cell_type": "code",
      "source": [
        "list(my_dic.items())"
      ],
      "metadata": {
        "colab": {
          "base_uri": "https://localhost:8080/"
        },
        "id": "0GYP0l_iYdvN",
        "outputId": "3b90eb10-cffa-41f0-dc58-fb6ab7f82a54"
      },
      "execution_count": 51,
      "outputs": [
        {
          "output_type": "execute_result",
          "data": {
            "text/plain": [
              "[('Colores', 'Negro'),\n",
              " ('Animales', 'Gato'),\n",
              " ('Calzado', ['Botas', 'Botines', 'Deportivos', 'Sandalias'])]"
            ]
          },
          "metadata": {},
          "execution_count": 51
        }
      ]
    },
    {
      "cell_type": "code",
      "source": [
        "#Ejercicio A partir de las siguientes lineas de códigom entienda lo que hace cada uno de los metodos y cree su propio ejemplo de mayor complejidad\n",
        "\n",
        "print(my_dic)"
      ],
      "metadata": {
        "colab": {
          "base_uri": "https://localhost:8080/"
        },
        "id": "jfegIeU3YmR3",
        "outputId": "18825eaa-7b5e-40c0-9a97-ed6959be024a"
      },
      "execution_count": 53,
      "outputs": [
        {
          "output_type": "stream",
          "name": "stdout",
          "text": [
            "{'Colores': 'Negro', 'Animales': 'Gato', 'Calzado': ['Botas', 'Botines', 'Deportivos', 'Sandalias']}\n"
          ]
        }
      ]
    },
    {
      "cell_type": "code",
      "source": [
        "print(my_dic.items())\n",
        "print(my_dic.keys())\n",
        "print(my_dic.values())\n",
        "print(my_dic.pop('Colores'))\n",
        "print(my_dic)\n",
        "print(my_dic.popitem())\n",
        "print(my_dic)\n",
        "print(my_dic.update(persona))\n",
        "\n"
      ],
      "metadata": {
        "colab": {
          "base_uri": "https://localhost:8080/"
        },
        "id": "V6PuFYQIYtW9",
        "outputId": "44435c9e-c81f-4015-db10-c5d7ca868995"
      },
      "execution_count": 55,
      "outputs": [
        {
          "output_type": "stream",
          "name": "stdout",
          "text": [
            "dict_items([('Colores', 'Negro'), ('Animales', 'Gato'), ('Calzado', ['Botas', 'Botines', 'Deportivos', 'Sandalias'])])\n",
            "dict_keys(['Colores', 'Animales', 'Calzado'])\n",
            "dict_values(['Negro', 'Gato', ['Botas', 'Botines', 'Deportivos', 'Sandalias']])\n",
            "Negro\n",
            "{'Animales': 'Gato', 'Calzado': ['Botas', 'Botines', 'Deportivos', 'Sandalias']}\n",
            "('Calzado', ['Botas', 'Botines', 'Deportivos', 'Sandalias'])\n",
            "{'Animales': 'Gato'}\n",
            "None\n"
          ]
        }
      ]
    },
    {
      "cell_type": "code",
      "source": [
        "ej2 = {\n",
        "    'Colores': ['Rojo', 'Verde', 'Azul'],\n",
        "    'Frutas': {'Manzana': 3, 'Naranja': 5, 'Pera': 2},\n",
        "    'Paises': ['España', 'México', 'Argentina'],\n",
        "    'Animales': {'Perro': 4, 'Gato': 2}\n",
        "}\n",
        "\n",
        "# Imprimir el diccionario completo\n",
        "print(\"Diccionario completo:\", ej2)\n",
        "\n",
        "# Mostrar los elementos como pares clave-valor\n",
        "print(\"\\nElementos (clave-valor):\", ej2.items())\n",
        "\n",
        "# Mostrar solo las claves\n",
        "print(\"\\nClaves:\", ej2.keys())\n",
        "\n",
        "# Mostrar solo los valores\n",
        "print(\"\\nValores:\", ej2.values())\n",
        "\n",
        "# Eliminar el valor asociado a la clave 'Colores'\n",
        "print(\"\\nEliminar 'Colores':\", ej2.pop('Colores'))\n",
        "\n",
        "# Imprimir el diccionario después de eliminar 'Colores'\n",
        "print(\"\\nDiccionario tras eliminar 'Colores':\", ej2)\n",
        "\n",
        "# Eliminar y devolver el último par clave-valor\n",
        "print(\"\\nEliminar el último par (clave-valor):\", ej2.popitem())\n",
        "\n",
        "# Imprimir el diccionario después de eliminar el último elemento\n",
        "print(\"\\nDiccionario tras eliminar el último par:\", ej2)\n",
        "\n",
        "# Definir un nuevo diccionario para actualizar\n",
        "ej2_Persona = {\n",
        "    'Nombre': 'Carlos',\n",
        "    'Edad': 28,\n",
        "    'Trabajo': 'Ingeniero'\n",
        "}\n",
        "\n",
        "# Actualizar el diccionario con el nuevo\n",
        "ej2.update(ej2_Persona)\n",
        "\n",
        "# Imprimir el diccionario tras la actualización\n",
        "print(\"\\nDiccionario tras la actualización:\", ej2)"
      ],
      "metadata": {
        "colab": {
          "base_uri": "https://localhost:8080/"
        },
        "id": "MAaf8NhjcOC8",
        "outputId": "4eb51218-14e9-46d8-b142-3e43df2a311f"
      },
      "execution_count": 54,
      "outputs": [
        {
          "output_type": "stream",
          "name": "stdout",
          "text": [
            "Diccionario completo: {'Colores': ['Rojo', 'Verde', 'Azul'], 'Frutas': {'Manzana': 3, 'Naranja': 5, 'Pera': 2}, 'Paises': ['España', 'México', 'Argentina'], 'Animales': {'Perro': 4, 'Gato': 2}}\n",
            "\n",
            "Elementos (clave-valor): dict_items([('Colores', ['Rojo', 'Verde', 'Azul']), ('Frutas', {'Manzana': 3, 'Naranja': 5, 'Pera': 2}), ('Paises', ['España', 'México', 'Argentina']), ('Animales', {'Perro': 4, 'Gato': 2})])\n",
            "\n",
            "Claves: dict_keys(['Colores', 'Frutas', 'Paises', 'Animales'])\n",
            "\n",
            "Valores: dict_values([['Rojo', 'Verde', 'Azul'], {'Manzana': 3, 'Naranja': 5, 'Pera': 2}, ['España', 'México', 'Argentina'], {'Perro': 4, 'Gato': 2}])\n",
            "\n",
            "Eliminar 'Colores': ['Rojo', 'Verde', 'Azul']\n",
            "\n",
            "Diccionario tras eliminar 'Colores': {'Frutas': {'Manzana': 3, 'Naranja': 5, 'Pera': 2}, 'Paises': ['España', 'México', 'Argentina'], 'Animales': {'Perro': 4, 'Gato': 2}}\n",
            "\n",
            "Eliminar el último par (clave-valor): ('Animales', {'Perro': 4, 'Gato': 2})\n",
            "\n",
            "Diccionario tras eliminar el último par: {'Frutas': {'Manzana': 3, 'Naranja': 5, 'Pera': 2}, 'Paises': ['España', 'México', 'Argentina']}\n",
            "\n",
            "Diccionario tras la actualización: {'Frutas': {'Manzana': 3, 'Naranja': 5, 'Pera': 2}, 'Paises': ['España', 'México', 'Argentina'], 'Nombre': 'Carlos', 'Edad': 28, 'Trabajo': 'Ingeniero'}\n"
          ]
        }
      ]
    },
    {
      "cell_type": "code",
      "source": [
        "alfabeto='abcdefghijklmnopqrstuvwxyz'\n",
        "alfaL = []\n",
        "\n",
        "for j in alfabeto:\n",
        "    alfaL.append(j)\n",
        "\n",
        "char2int = {}\n",
        "num = list(range(len(alfabeto)))\n",
        "\n",
        "for car,val in zip(alfaL,num):\n",
        "    char2int[car]=val\n",
        "\n",
        "print(char2int)\n",
        "print('\\n')\n",
        "print('char2int[\\'c\\']=', char2int['c'])"
      ],
      "metadata": {
        "colab": {
          "base_uri": "https://localhost:8080/"
        },
        "id": "tplY-Dd_croc",
        "outputId": "efa63c49-bb52-4151-f5b7-093b0bbe10fc"
      },
      "execution_count": 58,
      "outputs": [
        {
          "output_type": "stream",
          "name": "stdout",
          "text": [
            "{'a': 0, 'b': 1, 'c': 2, 'd': 3, 'e': 4, 'f': 5, 'g': 6, 'h': 7, 'i': 8, 'j': 9, 'k': 10, 'l': 11, 'm': 12, 'n': 13, 'o': 14, 'p': 15, 'q': 16, 'r': 17, 's': 18, 't': 19, 'u': 20, 'v': 21, 'w': 22, 'x': 23, 'y': 24, 'z': 25}\n",
            "\n",
            "\n",
            "char2int['c']= 2\n"
          ]
        }
      ]
    },
    {
      "cell_type": "code",
      "source": [
        "dict1 = {'a':1, 'b':2}\n",
        "dict2 = {'c':3, 'd':4}\n",
        "\n",
        "dict3 = dict1 | dict2\n",
        "\n",
        "print(dict3)"
      ],
      "metadata": {
        "colab": {
          "base_uri": "https://localhost:8080/"
        },
        "id": "pTCEUqeOdt2r",
        "outputId": "eedd0324-78a7-4821-b7e8-9db01a0b5e7b"
      },
      "execution_count": 59,
      "outputs": [
        {
          "output_type": "stream",
          "name": "stdout",
          "text": [
            "{'a': 1, 'b': 2, 'c': 3, 'd': 4}\n"
          ]
        }
      ]
    },
    {
      "cell_type": "code",
      "source": [
        "dict1 = {'a':1, 'b':2}\n",
        "\n",
        "print('a' in dict1)\n",
        "print('c' in dict1)"
      ],
      "metadata": {
        "colab": {
          "base_uri": "https://localhost:8080/"
        },
        "id": "8ZJO955Id-Y9",
        "outputId": "758200bf-1840-4bf2-96d3-8769ebb1a728"
      },
      "execution_count": 60,
      "outputs": [
        {
          "output_type": "stream",
          "name": "stdout",
          "text": [
            "True\n",
            "False\n"
          ]
        }
      ]
    },
    {
      "cell_type": "code",
      "source": [
        "dict1 = {'a':1, 'b':2}\n",
        "\n",
        "print(dict1.pop('a'))\n",
        "print(dict1.pop('c', 'MissingKey'))\n",
        "print(dict1.pop('d'))"
      ],
      "metadata": {
        "colab": {
          "base_uri": "https://localhost:8080/",
          "height": 211
        },
        "id": "97zddqIPeFkT",
        "outputId": "196e5fbb-42b9-4c7e-8fb6-d3e71581b6ca"
      },
      "execution_count": 61,
      "outputs": [
        {
          "output_type": "stream",
          "name": "stdout",
          "text": [
            "1\n",
            "MissingKey\n"
          ]
        },
        {
          "output_type": "error",
          "ename": "KeyError",
          "evalue": "'d'",
          "traceback": [
            "\u001b[0;31m---------------------------------------------------------------------------\u001b[0m",
            "\u001b[0;31mKeyError\u001b[0m                                  Traceback (most recent call last)",
            "\u001b[0;32m<ipython-input-61-4698299b4a6d>\u001b[0m in \u001b[0;36m<cell line: 5>\u001b[0;34m()\u001b[0m\n\u001b[1;32m      3\u001b[0m \u001b[0mprint\u001b[0m\u001b[0;34m(\u001b[0m\u001b[0mdict1\u001b[0m\u001b[0;34m.\u001b[0m\u001b[0mpop\u001b[0m\u001b[0;34m(\u001b[0m\u001b[0;34m'a'\u001b[0m\u001b[0;34m)\u001b[0m\u001b[0;34m)\u001b[0m\u001b[0;34m\u001b[0m\u001b[0;34m\u001b[0m\u001b[0m\n\u001b[1;32m      4\u001b[0m \u001b[0mprint\u001b[0m\u001b[0;34m(\u001b[0m\u001b[0mdict1\u001b[0m\u001b[0;34m.\u001b[0m\u001b[0mpop\u001b[0m\u001b[0;34m(\u001b[0m\u001b[0;34m'c'\u001b[0m\u001b[0;34m,\u001b[0m \u001b[0;34m'MissingKey'\u001b[0m\u001b[0;34m)\u001b[0m\u001b[0;34m)\u001b[0m\u001b[0;34m\u001b[0m\u001b[0;34m\u001b[0m\u001b[0m\n\u001b[0;32m----> 5\u001b[0;31m \u001b[0mprint\u001b[0m\u001b[0;34m(\u001b[0m\u001b[0mdict1\u001b[0m\u001b[0;34m.\u001b[0m\u001b[0mpop\u001b[0m\u001b[0;34m(\u001b[0m\u001b[0;34m'd'\u001b[0m\u001b[0;34m)\u001b[0m\u001b[0;34m)\u001b[0m\u001b[0;34m\u001b[0m\u001b[0;34m\u001b[0m\u001b[0m\n\u001b[0m",
            "\u001b[0;31mKeyError\u001b[0m: 'd'"
          ]
        }
      ]
    },
    {
      "cell_type": "code",
      "source": [
        "dict1 = {i:i**2 for i in range(1,11)}\n",
        "print(dict1)"
      ],
      "metadata": {
        "colab": {
          "base_uri": "https://localhost:8080/"
        },
        "id": "Q_HZypqNeULF",
        "outputId": "a13f32a1-f5d3-4a85-ed05-dd440161c9cf"
      },
      "execution_count": 62,
      "outputs": [
        {
          "output_type": "stream",
          "name": "stdout",
          "text": [
            "{1: 1, 2: 4, 3: 9, 4: 16, 5: 25, 6: 36, 7: 49, 8: 64, 9: 81, 10: 100}\n"
          ]
        }
      ]
    },
    {
      "cell_type": "code",
      "source": [
        "dict1 = {'a':'manzana', 'b':'banano', 'c': None}\n",
        "\n",
        "dict1 = {key:value for (key, value) in dict1.items() if value is not None}\n",
        "print(dict1)"
      ],
      "metadata": {
        "colab": {
          "base_uri": "https://localhost:8080/"
        },
        "id": "VSyaIu22eol1",
        "outputId": "a5c7eadf-1eb1-451d-9a05-ee3f8ae8a90b"
      },
      "execution_count": 63,
      "outputs": [
        {
          "output_type": "stream",
          "name": "stdout",
          "text": [
            "{'a': 'manzana', 'b': 'banano'}\n"
          ]
        }
      ]
    },
    {
      "cell_type": "code",
      "source": [
        "dict1 = {'a': 1, 'b':2}\n",
        "\n",
        "print(dict1.get('c'))\n",
        "print(dict1['c'])"
      ],
      "metadata": {
        "colab": {
          "base_uri": "https://localhost:8080/",
          "height": 193
        },
        "id": "cD8cOXiCgAOB",
        "outputId": "c76ed16c-454d-46d1-9614-e2961b4d6403"
      },
      "execution_count": 64,
      "outputs": [
        {
          "output_type": "stream",
          "name": "stdout",
          "text": [
            "None\n"
          ]
        },
        {
          "output_type": "error",
          "ename": "KeyError",
          "evalue": "'c'",
          "traceback": [
            "\u001b[0;31m---------------------------------------------------------------------------\u001b[0m",
            "\u001b[0;31mKeyError\u001b[0m                                  Traceback (most recent call last)",
            "\u001b[0;32m<ipython-input-64-6821d3956a60>\u001b[0m in \u001b[0;36m<cell line: 4>\u001b[0;34m()\u001b[0m\n\u001b[1;32m      2\u001b[0m \u001b[0;34m\u001b[0m\u001b[0m\n\u001b[1;32m      3\u001b[0m \u001b[0mprint\u001b[0m\u001b[0;34m(\u001b[0m\u001b[0mdict1\u001b[0m\u001b[0;34m.\u001b[0m\u001b[0mget\u001b[0m\u001b[0;34m(\u001b[0m\u001b[0;34m'c'\u001b[0m\u001b[0;34m)\u001b[0m\u001b[0;34m)\u001b[0m\u001b[0;34m\u001b[0m\u001b[0;34m\u001b[0m\u001b[0m\n\u001b[0;32m----> 4\u001b[0;31m \u001b[0mprint\u001b[0m\u001b[0;34m(\u001b[0m\u001b[0mdict1\u001b[0m\u001b[0;34m[\u001b[0m\u001b[0;34m'c'\u001b[0m\u001b[0;34m]\u001b[0m\u001b[0;34m)\u001b[0m\u001b[0;34m\u001b[0m\u001b[0;34m\u001b[0m\u001b[0m\n\u001b[0m",
            "\u001b[0;31mKeyError\u001b[0m: 'c'"
          ]
        }
      ]
    },
    {
      "cell_type": "code",
      "source": [
        "alturas = {'John': 175, 'Luis': 150, 'Carlos': 155, 'Maria': 170}\n",
        "alto = {key:value for (key, value) in alturas.items() if value >= 170}\n",
        "\n",
        "print(alto)"
      ],
      "metadata": {
        "colab": {
          "base_uri": "https://localhost:8080/"
        },
        "id": "4rdkaCcPgSsS",
        "outputId": "eb94ecff-8083-4afb-86ca-a49fd50f48ad"
      },
      "execution_count": 67,
      "outputs": [
        {
          "output_type": "stream",
          "name": "stdout",
          "text": [
            "{'John': 175, 'Maria': 170}\n"
          ]
        }
      ]
    },
    {
      "cell_type": "code",
      "source": [
        "salarios = {'Leon': 175, 'Luis': [150, 100], 'Carlos': 155, 'Angel': None}\n",
        "print(salarios)"
      ],
      "metadata": {
        "colab": {
          "base_uri": "https://localhost:8080/"
        },
        "id": "jkdSFAfBg41A",
        "outputId": "f8d2fce6-8c75-4e53-d0e2-0b69ecb2acfa"
      },
      "execution_count": 69,
      "outputs": [
        {
          "output_type": "stream",
          "name": "stdout",
          "text": [
            "{'Leon': 175, 'Luis': [150, 100], 'Carlos': 155, 'Angel': None}\n"
          ]
        }
      ]
    },
    {
      "cell_type": "code",
      "source": [
        "for salario in salarios:\n",
        "  print(salario)"
      ],
      "metadata": {
        "colab": {
          "base_uri": "https://localhost:8080/"
        },
        "id": "1Dxqr1j1hHtI",
        "outputId": "61a2fa3c-51a9-4872-cb5f-0e98c0723294"
      },
      "execution_count": 70,
      "outputs": [
        {
          "output_type": "stream",
          "name": "stdout",
          "text": [
            "Leon\n",
            "Luis\n",
            "Carlos\n",
            "Angel\n"
          ]
        }
      ]
    },
    {
      "cell_type": "code",
      "source": [
        "for persona in salarios.keys():\n",
        "  print(persona)"
      ],
      "metadata": {
        "colab": {
          "base_uri": "https://localhost:8080/"
        },
        "id": "nsSDbhb7iAKW",
        "outputId": "29fa80aa-cc2a-4c38-a001-9d20f20953cf"
      },
      "execution_count": 71,
      "outputs": [
        {
          "output_type": "stream",
          "name": "stdout",
          "text": [
            "Leon\n",
            "Luis\n",
            "Carlos\n",
            "Angel\n"
          ]
        }
      ]
    },
    {
      "cell_type": "code",
      "source": [
        "for salario in salarios.values():\n",
        "  print(salario)"
      ],
      "metadata": {
        "colab": {
          "base_uri": "https://localhost:8080/"
        },
        "id": "oW_onM4QjGSi",
        "outputId": "ddae548b-91be-4dd6-d90b-34ba7b9c1903"
      },
      "execution_count": 72,
      "outputs": [
        {
          "output_type": "stream",
          "name": "stdout",
          "text": [
            "175\n",
            "[150, 100]\n",
            "155\n",
            "None\n"
          ]
        }
      ]
    }
  ]
}